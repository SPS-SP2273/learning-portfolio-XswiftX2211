{
 "cells": [
  {
   "attachments": {},
   "cell_type": "markdown",
   "id": "123456",
   "metadata": {},
   "source": [
    "<div style=\"text-align:left;font-size:2em\"><span style=\"font-weight:bolder;font-size:1.25em\">SP2273 | Learning Portfolio</span><br><br><span style=\"font-weight:bold;color:darkred\">Fundamentals (Nice)</span></div>"
   ]
  },
  {
   "attachments": {},
   "cell_type": "markdown",
   "id": "d5a4f4c6",
   "metadata": {},
   "source": [
    "# 1 If if is not enough"
   ]
  },
  {
   "cell_type": "code",
   "execution_count": 4,
   "id": "2881ee1b-d21c-494b-970c-33fb05aa5f25",
   "metadata": {},
   "outputs": [
    {
     "name": "stdout",
     "output_type": "stream",
     "text": [
      "Hello World\n"
     ]
    }
   ],
   "source": [
    "name='Wow'\n",
    "\n",
    "match name:\n",
    "    case 'Robin':\n",
    "        print('Yo sidekick')\n",
    "    case ('Aquaman'):\n",
    "        print('Fishy')\n",
    "    case _: #remeber to enter space between case and _\n",
    "        print('Hello World')"
   ]
  },
  {
   "attachments": {},
   "cell_type": "markdown",
   "id": "8955ad85",
   "metadata": {},
   "source": [
    "# 2 Ternary operators or Conditional Statements"
   ]
  },
  {
   "cell_type": "code",
   "execution_count": 7,
   "id": "82c6f54e-62b7-4893-99d1-2533626db31e",
   "metadata": {},
   "outputs": [
    {
     "name": "stdin",
     "output_type": "stream",
     "text": [
      "Nationality? American\n"
     ]
    },
    {
     "data": {
      "text/plain": [
       "'Hello!'"
      ]
     },
     "execution_count": 7,
     "metadata": {},
     "output_type": "execute_result"
    }
   ],
   "source": [
    "nationality=input('Nationality?')\n",
    "(\"Hello!\", \"Bonjour!\")[nationality == 'French']"
   ]
  },
  {
   "cell_type": "code",
   "execution_count": 9,
   "id": "0f91b4d0-88ac-450c-b04d-0926c2762bf2",
   "metadata": {},
   "outputs": [],
   "source": [
    "text = None\n",
    "message = text or \"No message!\""
   ]
  },
  {
   "attachments": {},
   "cell_type": "markdown",
   "id": "9c0f804e",
   "metadata": {},
   "source": [
    "# 3 Swapping values"
   ]
  },
  {
   "cell_type": "code",
   "execution_count": 10,
   "id": "a384d815-9f05-45c6-98c4-a0e07e55fc2b",
   "metadata": {},
   "outputs": [
    {
     "name": "stdout",
     "output_type": "stream",
     "text": [
      "4 2\n"
     ]
    }
   ],
   "source": [
    "a,b=2,4\n",
    "a,b=b,a\n",
    "print(a,b)"
   ]
  },
  {
   "attachments": {},
   "cell_type": "markdown",
   "id": "552555e7",
   "metadata": {},
   "source": [
    "# 4 There are more types"
   ]
  },
  {
   "cell_type": "code",
   "execution_count": 17,
   "id": "fda6e658-498d-42e3-895a-848686c52f64",
   "metadata": {},
   "outputs": [
    {
     "name": "stdout",
     "output_type": "stream",
     "text": [
      "float          : 2.220446049250313e-16\n",
      "float16        : 0.000977\n",
      "float32        : 1.1920929e-07\n",
      "float64        : 2.220446049250313e-16\n"
     ]
    }
   ],
   "source": [
    "my_types = [\n",
    "    float,       # Default for core Python on my machine\n",
    "    np.float16,\n",
    "    np.float32,\n",
    "    np.float64,\n",
    "]\n",
    "\n",
    "for my_type in my_types:\n",
    "    print(f'{my_type.__name__:<15s}:', np.finfo(my_type).eps)"
   ]
  },
  {
   "cell_type": "code",
   "execution_count": 15,
   "id": "a166df4f-c2b3-4f32-b1e2-61882ae1fe35",
   "metadata": {},
   "outputs": [],
   "source": [
    "import numpy as np"
   ]
  },
  {
   "attachments": {},
   "cell_type": "markdown",
   "id": "271cc4fc",
   "metadata": {},
   "source": [
    "# 5 Operator precedance"
   ]
  },
  {
   "attachments": {},
   "cell_type": "markdown",
   "id": "5c626b70",
   "metadata": {},
   "source": [
    "# 6 Variables in Python are just names"
   ]
  },
  {
   "attachments": {},
   "cell_type": "markdown",
   "id": "9cb7683f",
   "metadata": {},
   "source": [
    "## 6.1 The Problem"
   ]
  },
  {
   "cell_type": "code",
   "execution_count": 19,
   "id": "2a9c9fad-bbb3-40f6-82e7-1dcc476e09c9",
   "metadata": {},
   "outputs": [
    {
     "name": "stdout",
     "output_type": "stream",
     "text": [
      "x: [1, 2, 3], y: [1, 2, 3]\n"
     ]
    }
   ],
   "source": [
    "#Prediction: The print will show 2 list of x (1,2) and of y (1,2,3)\n",
    "\n",
    "x = [1, 2]\n",
    "y = x\n",
    "y.append(3)\n",
    "\n",
    "print(f\"x: {x}, y: {y}\")"
   ]
  },
  {
   "attachments": {},
   "cell_type": "markdown",
   "id": "a5d39555",
   "metadata": {},
   "source": [
    "## 6.2 An explanation"
   ]
  },
  {
   "cell_type": "code",
   "execution_count": 20,
   "id": "fca818a1-f6ec-45d9-ab54-7399e692da56",
   "metadata": {},
   "outputs": [
    {
     "data": {
      "text/plain": [
       "'CODE 1'"
      ]
     },
     "execution_count": 20,
     "metadata": {},
     "output_type": "execute_result"
    }
   ],
   "source": [
    "'''CODE 1'''"
   ]
  },
  {
   "cell_type": "code",
   "execution_count": 21,
   "id": "f69b0faf-06e7-492b-b9dd-64fcf6d60d94",
   "metadata": {},
   "outputs": [
    {
     "name": "stdout",
     "output_type": "stream",
     "text": [
      "x: 140728891052840, y: 140728891052840, 1: 140728891052840\n"
     ]
    }
   ],
   "source": [
    "x = 1\n",
    "y = 1\n",
    "\n",
    "print(f\"x: {id(x)}, y: {id(y)}, 1: {id(1)}\")"
   ]
  },
  {
   "cell_type": "code",
   "execution_count": 22,
   "id": "fbde3aa8-b268-471f-b6b6-607e3ea349ce",
   "metadata": {},
   "outputs": [
    {
     "name": "stdout",
     "output_type": "stream",
     "text": [
      "x: 140728891052840, y: 140728891052872\n"
     ]
    }
   ],
   "source": [
    "'''CODE 2'''\n",
    "\n",
    "x = 1\n",
    "y = x + 1\n",
    "\n",
    "print(f\"x: {id(x)}, y: {id(y)}\")"
   ]
  },
  {
   "cell_type": "code",
   "execution_count": 23,
   "id": "5e045342-acdf-47b5-bbce-f3b2b5b07b1c",
   "metadata": {},
   "outputs": [
    {
     "name": "stdout",
     "output_type": "stream",
     "text": [
      "1: 140728891052840, 2: 140728891052872\n"
     ]
    }
   ],
   "source": [
    "print(f\"1: {id(1)}, 2: {id(2)}\")"
   ]
  },
  {
   "attachments": {},
   "cell_type": "markdown",
   "id": "f618ca8b",
   "metadata": {},
   "source": [
    "## 6.3 A solution"
   ]
  },
  {
   "cell_type": "code",
   "execution_count": 26,
   "id": "874571ba-e4d9-4173-8f6e-8d6fed103278",
   "metadata": {},
   "outputs": [
    {
     "name": "stdout",
     "output_type": "stream",
     "text": [
      "x:[1, 2], y:[1, 2, 3]\n"
     ]
    }
   ],
   "source": [
    "x=[1,2]\n",
    "y=x.copy()\n",
    "y.append(3)\n",
    "\n",
    "print(f'x:{x}, y:{y}')"
   ]
  },
  {
   "attachments": {},
   "cell_type": "markdown",
   "id": "a6a9ca66",
   "metadata": {},
   "source": [
    "# 7 == is not the same as is"
   ]
  },
  {
   "attachments": {},
   "cell_type": "markdown",
   "id": "5d5dd493",
   "metadata": {},
   "source": [
    "## Footnotes"
   ]
  }
 ],
 "metadata": {
  "kernelspec": {
   "display_name": "Python 3 (ipykernel)",
   "language": "python",
   "name": "python3"
  },
  "language_info": {
   "codemirror_mode": {
    "name": "ipython",
    "version": 3
   },
   "file_extension": ".py",
   "mimetype": "text/x-python",
   "name": "python",
   "nbconvert_exporter": "python",
   "pygments_lexer": "ipython3",
   "version": "3.11.5"
  },
  "toc": {
   "base_numbering": 1,
   "nav_menu": {},
   "number_sections": true,
   "sideBar": true,
   "skip_h1_title": false,
   "title_cell": "Table of Contents",
   "title_sidebar": "Contents",
   "toc_cell": false,
   "toc_position": {},
   "toc_section_display": true,
   "toc_window_display": false
  },
  "vscode": {
   "interpreter": {
    "hash": "31f2aee4e71d21fbe5cf8b01ff0e069b9275f58929596ceb00d14d90e3e16cd6"
   }
  }
 },
 "nbformat": 4,
 "nbformat_minor": 5
}
