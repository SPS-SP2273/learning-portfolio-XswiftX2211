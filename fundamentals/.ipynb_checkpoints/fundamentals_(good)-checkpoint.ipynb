{
 "cells": [
  {
   "attachments": {},
   "cell_type": "markdown",
   "id": "123456",
   "metadata": {},
   "source": [
    "<div style=\"text-align:left;font-size:2em\"><span style=\"font-weight:bolder;font-size:1.25em\">SP2273 | Learning Portfolio</span><br><br><span style=\"font-weight:bold;color:darkred\">Fundamentals (Good)</span></div>"
   ]
  },
  {
   "attachments": {},
   "cell_type": "markdown",
   "id": "29c76bb2",
   "metadata": {},
   "source": [
    "# What to expect in this chapter"
   ]
  },
  {
   "attachments": {},
   "cell_type": "markdown",
   "id": "523391ab",
   "metadata": {},
   "source": [
    "# 1 There is more to if"
   ]
  },
  {
   "cell_type": "code",
   "execution_count": 1,
   "id": "b5d0928f-4267-4a43-a66c-137a3c6a1bac",
   "metadata": {},
   "outputs": [
    {
     "name": "stdout",
     "output_type": "stream",
     "text": [
      "best DC character\n"
     ]
    }
   ],
   "source": [
    "name='Batman'\n",
    "if name == 'Batman':\n",
    "    print('best DC character')\n",
    "elif name == 'iron man':\n",
    "    print('best marvel character')\n",
    "else:\n",
    "    print('Are you a superhero?')"
   ]
  },
  {
   "attachments": {},
   "cell_type": "markdown",
   "id": "bf80a5bc",
   "metadata": {},
   "source": [
    "# 2 Asking questions"
   ]
  },
  {
   "cell_type": "code",
   "execution_count": 8,
   "id": "d3c0f4d9-2827-44da-81ab-7ccb1676e2b7",
   "metadata": {},
   "outputs": [],
   "source": [
    "Kanto_pokemon_starters=['charmender', 'squirtle', 'bulbasaur']\n",
    "Fire_starters=['charmender', 'cyndaquil', 'torchic']"
   ]
  },
  {
   "cell_type": "code",
   "execution_count": 6,
   "id": "2b3efa9a-04ac-469a-abee-ee19bd5b18b5",
   "metadata": {},
   "outputs": [
    {
     "name": "stdout",
     "output_type": "stream",
     "text": [
      "True\n"
     ]
    }
   ],
   "source": [
    "print('charmender' in Kanto_pokemon_starters)"
   ]
  },
  {
   "cell_type": "code",
   "execution_count": 17,
   "id": "41755c98-7224-40b7-ae26-844e2ebfffc2",
   "metadata": {},
   "outputs": [
    {
     "name": "stdout",
     "output_type": "stream",
     "text": [
      "True\n"
     ]
    }
   ],
   "source": [
    "print('pikachu' not in Kanto_pokemon_starters)"
   ]
  },
  {
   "cell_type": "code",
   "execution_count": 11,
   "id": "9b00ef80-b1be-4219-98dd-1152c6efcc45",
   "metadata": {},
   "outputs": [
    {
     "name": "stdout",
     "output_type": "stream",
     "text": [
      "True\n"
     ]
    }
   ],
   "source": [
    "print('charmender' in Fire_starters and 'charmender' in Kanto_pokemon_starters)"
   ]
  },
  {
   "cell_type": "code",
   "execution_count": 12,
   "id": "e7eb2a84-95ce-4e2d-b5cd-7528413b8829",
   "metadata": {},
   "outputs": [
    {
     "name": "stdout",
     "output_type": "stream",
     "text": [
      "True\n"
     ]
    }
   ],
   "source": [
    "print('torch' in 'torchic')"
   ]
  },
  {
   "cell_type": "code",
   "execution_count": 16,
   "id": "1a5379f8-ee3a-4aac-ad7f-e5f2dbf32cb6",
   "metadata": {},
   "outputs": [
    {
     "name": "stdout",
     "output_type": "stream",
     "text": [
      "True\n"
     ]
    }
   ],
   "source": [
    "print('cyndaquil' in Fire_starters or 'cyndaquil' in Kanto_pokemon_starters)"
   ]
  },
  {
   "attachments": {},
   "cell_type": "markdown",
   "id": "68a4bda4",
   "metadata": {},
   "source": [
    "# 3 Remember"
   ]
  },
  {
   "attachments": {},
   "cell_type": "markdown",
   "id": "814c137c",
   "metadata": {},
   "source": [
    "## 3.1 Asking Math questions"
   ]
  },
  {
   "cell_type": "code",
   "execution_count": 21,
   "id": "5f668288-6f0a-4fed-87fc-c376473f0659",
   "metadata": {},
   "outputs": [
    {
     "name": "stdout",
     "output_type": "stream",
     "text": [
      "False\n"
     ]
    }
   ],
   "source": [
    "x=5\n",
    "print(x>10)"
   ]
  },
  {
   "attachments": {},
   "cell_type": "markdown",
   "id": "75b4a41c",
   "metadata": {},
   "source": [
    "# 4 Python stores information in different formats or types"
   ]
  },
  {
   "cell_type": "code",
   "execution_count": 2,
   "id": "5e18d7c0-6be8-4356-8477-11ded7610012",
   "metadata": {},
   "outputs": [
    {
     "name": "stdout",
     "output_type": "stream",
     "text": [
      "2.449489742783178 <class 'numpy.float64'>\n"
     ]
    }
   ],
   "source": [
    "import numpy as num\n",
    "\n",
    "x=num.sqrt(6)\n",
    "print(x, type(x)) #What does numpy.float64 mean?"
   ]
  },
  {
   "cell_type": "code",
   "execution_count": 26,
   "id": "65c29d86-2dbe-4589-b4fe-9fe78cd0acbc",
   "metadata": {},
   "outputs": [
    {
     "name": "stdout",
     "output_type": "stream",
     "text": [
      "4 <class 'int'>\n"
     ]
    }
   ],
   "source": [
    "x=4\n",
    "print(x, type(x))"
   ]
  },
  {
   "cell_type": "code",
   "execution_count": 31,
   "id": "208ceedc-587f-4c88-813a-167a6c96fe94",
   "metadata": {},
   "outputs": [
    {
     "name": "stdout",
     "output_type": "stream",
     "text": [
      "3.5 <class 'str'>\n"
     ]
    }
   ],
   "source": [
    "x=str(3.5)\n",
    "print(x, type(x))"
   ]
  },
  {
   "cell_type": "code",
   "execution_count": 59,
   "id": "4540a51f-39a6-4416-ba21-75b778acafef",
   "metadata": {},
   "outputs": [
    {
     "name": "stdout",
     "output_type": "stream",
     "text": [
      "1.4142135623730951j <class 'complex'>\n"
     ]
    }
   ],
   "source": [
    "x=complex(num.sqrt(-2+0j))\n",
    "print(x, type(x))"
   ]
  },
  {
   "cell_type": "code",
   "execution_count": 38,
   "id": "2ee3fd92-4b3e-46e3-9bf9-bd3700b46a26",
   "metadata": {},
   "outputs": [
    {
     "name": "stdout",
     "output_type": "stream",
     "text": [
      "1.4142135623730951j <class 'numpy.complex128'>\n"
     ]
    }
   ],
   "source": [
    "x=num.sqrt(-2+0j)\n",
    "print(x, type(x)) #What is the difference between these two?"
   ]
  },
  {
   "cell_type": "code",
   "execution_count": 30,
   "id": "8de00945-4e5f-4a18-a4dc-92dc0ca64acb",
   "metadata": {},
   "outputs": [
    {
     "name": "stdout",
     "output_type": "stream",
     "text": [
      "Hello world! I am here\n"
     ]
    }
   ],
   "source": [
    "x=str('Hello world! ')\n",
    "print(x + 'I am here') #Was experimenting with str func."
   ]
  },
  {
   "attachments": {},
   "cell_type": "markdown",
   "id": "6eae919f",
   "metadata": {},
   "source": [
    "# 5 Never compare floats directly"
   ]
  },
  {
   "attachments": {},
   "cell_type": "markdown",
   "id": "2994580f",
   "metadata": {},
   "source": [
    "## 5.1 The Problem"
   ]
  },
  {
   "cell_type": "code",
   "execution_count": 44,
   "id": "7aee5cf1-424a-495b-90a7-4affdb85139b",
   "metadata": {},
   "outputs": [
    {
     "name": "stdout",
     "output_type": "stream",
     "text": [
      "False\n"
     ]
    }
   ],
   "source": [
    "a=0.3\n",
    "a3=0.9\n",
    "print(3*a==a3)"
   ]
  },
  {
   "cell_type": "code",
   "execution_count": 58,
   "id": "365cef04-e1e7-4ff8-b2d2-ce060dacc9b1",
   "metadata": {},
   "outputs": [
    {
     "name": "stdout",
     "output_type": "stream",
     "text": [
      "0.29999999999999998890\n"
     ]
    }
   ],
   "source": [
    "print(f'{0.3:.20f}') #What is this f func?"
   ]
  },
  {
   "attachments": {},
   "cell_type": "markdown",
   "id": "4200d383",
   "metadata": {},
   "source": [
    "## 5.2 A solution"
   ]
  },
  {
   "cell_type": "code",
   "execution_count": 55,
   "id": "ea678164-d436-4eb5-bd4a-412d61077e0d",
   "metadata": {},
   "outputs": [
    {
     "name": "stdout",
     "output_type": "stream",
     "text": [
      "True\n"
     ]
    }
   ],
   "source": [
    "a=0.1\n",
    "b=0.3\n",
    "eps=1E-10\n",
    "print(abs(3*a-b)<eps)"
   ]
  },
  {
   "cell_type": "code",
   "execution_count": 56,
   "id": "c235f072-a90a-4ff4-a8fb-ce80868ecfe1",
   "metadata": {},
   "outputs": [
    {
     "data": {
      "text/plain": [
       "True"
      ]
     },
     "execution_count": 56,
     "metadata": {},
     "output_type": "execute_result"
    }
   ],
   "source": [
    "num.isclose(3*a,b)"
   ]
  },
  {
   "attachments": {},
   "cell_type": "markdown",
   "id": "a8129cb3",
   "metadata": {},
   "source": [
    "# 6 Combining English and variables"
   ]
  },
  {
   "cell_type": "code",
   "execution_count": 65,
   "id": "97cb4ff1-3eb4-41b0-8f4b-89c31fc02a36",
   "metadata": {},
   "outputs": [
    {
     "name": "stdout",
     "output_type": "stream",
     "text": [
      "Hello Yuan Zhe!\n"
     ]
    }
   ],
   "source": [
    "name=\"Yuan Zhe\"\n",
    "print(f'Hello {name}!')"
   ]
  },
  {
   "cell_type": "code",
   "execution_count": 69,
   "id": "b7836ee2-6f0c-4489-ac51-279544891e29",
   "metadata": {},
   "outputs": [
    {
     "name": "stdout",
     "output_type": "stream",
     "text": [
      "Hello YUAN ZHE!\n"
     ]
    }
   ],
   "source": [
    "print(f'Hello {name.upper()}!')"
   ]
  },
  {
   "cell_type": "code",
   "execution_count": 71,
   "id": "a2f344d1-a8e2-4acd-a366-79e854d320c5",
   "metadata": {},
   "outputs": [
    {
     "name": "stdout",
     "output_type": "stream",
     "text": [
      "The value of 2 squared is 4.\n"
     ]
    }
   ],
   "source": [
    "x=2\n",
    "print(f'The value of {x} squared is {x**2}.')"
   ]
  },
  {
   "cell_type": "code",
   "execution_count": 72,
   "id": "9e1379f4-77dc-4a92-be0d-429d01bc85aa",
   "metadata": {},
   "outputs": [
    {
     "name": "stdout",
     "output_type": "stream",
     "text": [
      "SPS rocks.\n"
     ]
    }
   ],
   "source": [
    "text = 'SPS rocks.'\n",
    "print(f'{text}')"
   ]
  },
  {
   "cell_type": "code",
   "execution_count": 73,
   "id": "d619cc07-37b4-488a-a8fc-1e5835c7feba",
   "metadata": {},
   "outputs": [
    {
     "name": "stdout",
     "output_type": "stream",
     "text": [
      "                    SPS rocks.\n"
     ]
    }
   ],
   "source": [
    "print(f'{text:>30}')"
   ]
  },
  {
   "cell_type": "code",
   "execution_count": 74,
   "id": "8284bdba-5f4e-4207-b074-58a3ff31430d",
   "metadata": {},
   "outputs": [
    {
     "name": "stdout",
     "output_type": "stream",
     "text": [
      "          SPS rocks.          \n"
     ]
    }
   ],
   "source": [
    "print(f'{text:^30}')"
   ]
  },
  {
   "cell_type": "code",
   "execution_count": 75,
   "id": "5854814b-cfea-4f40-aea4-6a97be27280e",
   "metadata": {},
   "outputs": [
    {
     "name": "stdout",
     "output_type": "stream",
     "text": [
      "SPS rocks.                    \n"
     ]
    }
   ],
   "source": [
    "print(f'{text:<30}')"
   ]
  },
  {
   "cell_type": "code",
   "execution_count": 77,
   "id": "269c612c-9bd6-4d52-a63d-f5b40c62541e",
   "metadata": {},
   "outputs": [
    {
     "name": "stdout",
     "output_type": "stream",
     "text": [
      "The root of 2π+6j is 2.73597+1.09650j to 5d.p.\n"
     ]
    }
   ],
   "source": [
    "print(f'The root of 2π+6j is {num.sqrt(2*num.pi+6j):.5f} to 5d.p.')"
   ]
  },
  {
   "attachments": {},
   "cell_type": "markdown",
   "id": "3452b685",
   "metadata": {},
   "source": [
    "## 6.1 Structure of f-strings"
   ]
  },
  {
   "cell_type": "code",
   "execution_count": 11,
   "id": "ddf1c2e9-72f8-43f7-9723-ba6d5f5bf8ed",
   "metadata": {},
   "outputs": [
    {
     "name": "stdout",
     "output_type": "stream",
     "text": [
      "0+3.4142j\n"
     ]
    }
   ],
   "source": [
    "x=num.sqrt(-2+0j)\n",
    "print(f'{x+2j:.5g}')"
   ]
  },
  {
   "attachments": {},
   "cell_type": "markdown",
   "id": "5afac9fa",
   "metadata": {},
   "source": [
    "# 7 Escape sequences"
   ]
  },
  {
   "cell_type": "code",
   "execution_count": 18,
   "id": "83393393-54e0-49ad-a070-b343b89a3fc9",
   "metadata": {},
   "outputs": [
    {
     "name": "stdout",
     "output_type": "stream",
     "text": [
      "Luke,\n",
      "\"I am your\n",
      "\tfather!\"\n"
     ]
    }
   ],
   "source": [
    "print('Luke,\\n\\\"I am your\\n\\tfather!\"')"
   ]
  },
  {
   "attachments": {},
   "cell_type": "markdown",
   "id": "843d6cc0",
   "metadata": {},
   "source": [
    "# 8 Computers read = from Right to Left!"
   ]
  },
  {
   "cell_type": "code",
   "execution_count": 20,
   "id": "e172df39-575a-4b0c-b570-50eb574465fb",
   "metadata": {},
   "outputs": [
    {
     "name": "stdout",
     "output_type": "stream",
     "text": [
      "42\n"
     ]
    }
   ],
   "source": [
    "x = 40\n",
    "y = x + 2\n",
    "print(y)"
   ]
  },
  {
   "cell_type": "code",
   "execution_count": 21,
   "id": "3a5eeb21-dc02-4ca5-aa87-7b9a2665fa8f",
   "metadata": {},
   "outputs": [
    {
     "name": "stdout",
     "output_type": "stream",
     "text": [
      "42\n"
     ]
    }
   ],
   "source": [
    "y = 40\n",
    "y = y + 2\n",
    "print(y)"
   ]
  },
  {
   "attachments": {},
   "cell_type": "markdown",
   "id": "1596a7ea",
   "metadata": {},
   "source": [
    "# 9 Shorter and Cleaner Code"
   ]
  },
  {
   "cell_type": "code",
   "execution_count": 22,
   "id": "63776279-c566-474e-9c7d-56ac48c1761e",
   "metadata": {},
   "outputs": [
    {
     "data": {
      "text/plain": [
       "42"
      ]
     },
     "execution_count": 22,
     "metadata": {},
     "output_type": "execute_result"
    }
   ],
   "source": [
    "y = 40\n",
    "y += 2\n",
    "y"
   ]
  },
  {
   "attachments": {},
   "cell_type": "markdown",
   "id": "30f201f7",
   "metadata": {},
   "source": [
    "# 10 Python can be a prima-donna."
   ]
  },
  {
   "attachments": {},
   "cell_type": "markdown",
   "id": "956ede28",
   "metadata": {},
   "source": [
    "# 11 Best Practices for Scientific Computing"
   ]
  },
  {
   "attachments": {},
   "cell_type": "markdown",
   "id": "6bfcea7d",
   "metadata": {},
   "source": [
    "# 12 Looking for help"
   ]
  },
  {
   "attachments": {},
   "cell_type": "markdown",
   "id": "4aa350f7",
   "metadata": {},
   "source": [
    "## References"
   ]
  },
  {
   "attachments": {},
   "cell_type": "markdown",
   "id": "21458f1b",
   "metadata": {},
   "source": [
    "## Footnotes"
   ]
  }
 ],
 "metadata": {
  "kernelspec": {
   "display_name": "Python 3 (ipykernel)",
   "language": "python",
   "name": "python3"
  },
  "language_info": {
   "codemirror_mode": {
    "name": "ipython",
    "version": 3
   },
   "file_extension": ".py",
   "mimetype": "text/x-python",
   "name": "python",
   "nbconvert_exporter": "python",
   "pygments_lexer": "ipython3",
   "version": "3.11.5"
  },
  "toc": {
   "base_numbering": 1,
   "nav_menu": {},
   "number_sections": true,
   "sideBar": true,
   "skip_h1_title": false,
   "title_cell": "Table of Contents",
   "title_sidebar": "Contents",
   "toc_cell": false,
   "toc_position": {},
   "toc_section_display": true,
   "toc_window_display": false
  },
  "vscode": {
   "interpreter": {
    "hash": "31f2aee4e71d21fbe5cf8b01ff0e069b9275f58929596ceb00d14d90e3e16cd6"
   }
  }
 },
 "nbformat": 4,
 "nbformat_minor": 5
}
