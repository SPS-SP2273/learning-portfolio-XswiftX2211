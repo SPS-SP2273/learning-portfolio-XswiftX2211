{
 "cells": [
  {
   "attachments": {},
   "cell_type": "markdown",
   "id": "123456",
   "metadata": {},
   "source": [
    "<div style=\"text-align:left;font-size:2em\"><span style=\"font-weight:bolder;font-size:1.25em\">SP2273 | Learning Portfolio</span><br><br><span style=\"font-weight:bold;color:darkred\">Storing Data (Need)</span></div>"
   ]
  },
  {
   "attachments": {},
   "cell_type": "markdown",
   "id": "f3d5b7e8",
   "metadata": {},
   "source": [
    "# What to expect in this chapter"
   ]
  },
  {
   "attachments": {},
   "cell_type": "markdown",
   "id": "b2e18b24",
   "metadata": {},
   "source": [
    "# 1 Lists, Arrays & Dictionaries"
   ]
  },
  {
   "attachments": {},
   "cell_type": "markdown",
   "id": "536edb4b",
   "metadata": {},
   "source": [
    "## 1.1 Let’s compare"
   ]
  },
  {
   "cell_type": "code",
   "execution_count": 5,
   "id": "46c88656-d735-4267-9367-3f8fb737237a",
   "metadata": {},
   "outputs": [],
   "source": [
    "py_pokemon_starters=[\"charmander\",\"bulbasaur\",\"squirtle\"]\n",
    "py_elements=[\"fire\",\"grass\", \"water\"]"
   ]
  },
  {
   "cell_type": "code",
   "execution_count": 2,
   "id": "99901967-30c6-4850-9efd-f2dab222d3d7",
   "metadata": {},
   "outputs": [],
   "source": [
    "import numpy as np"
   ]
  },
  {
   "cell_type": "code",
   "execution_count": 4,
   "id": "f1782ded-4278-468d-a3bf-d87213e30196",
   "metadata": {},
   "outputs": [],
   "source": [
    "np_pokemon_starters=np.array([\"charmander\",\"bulbasaur\",\"squirtle\"])\n",
    "np_elements=np.array([\"fire\",\"grass\", \"water\"])"
   ]
  },
  {
   "cell_type": "code",
   "execution_count": 21,
   "id": "68188759-3ac1-4140-a108-82fe0e49d8a2",
   "metadata": {},
   "outputs": [],
   "source": [
    "pokemon_starters = {\n",
    "    \"fire\": \"charmander\",\n",
    "    \"grass\": \"bulbasaur\",\n",
    "    \"water\": \"squirtle\"\n",
    "}"
   ]
  },
  {
   "attachments": {},
   "cell_type": "markdown",
   "id": "91d659de",
   "metadata": {},
   "source": [
    "## 1.2 Accessing data from a list (or array)"
   ]
  },
  {
   "cell_type": "code",
   "execution_count": 7,
   "id": "65303ec6-9425-4772-945e-eafcf7e84591",
   "metadata": {},
   "outputs": [
    {
     "data": {
      "text/plain": [
       "'charmander'"
      ]
     },
     "execution_count": 7,
     "metadata": {},
     "output_type": "execute_result"
    }
   ],
   "source": [
    "py_pokemon_starters[0]"
   ]
  },
  {
   "cell_type": "code",
   "execution_count": 8,
   "id": "848d9891-4ad8-48fd-9050-35531b1416e4",
   "metadata": {},
   "outputs": [
    {
     "data": {
      "text/plain": [
       "'grass'"
      ]
     },
     "execution_count": 8,
     "metadata": {},
     "output_type": "execute_result"
    }
   ],
   "source": [
    "py_elements[1]"
   ]
  },
  {
   "cell_type": "code",
   "execution_count": 10,
   "id": "eb776fc7-869f-4218-8610-46cf17011dbd",
   "metadata": {},
   "outputs": [
    {
     "data": {
      "text/plain": [
       "'water'"
      ]
     },
     "execution_count": 10,
     "metadata": {},
     "output_type": "execute_result"
    }
   ],
   "source": [
    "py_elements[2]"
   ]
  },
  {
   "cell_type": "code",
   "execution_count": 11,
   "id": "4f0e8ae7-47fa-4d2e-ad17-a777c44c3fc4",
   "metadata": {},
   "outputs": [
    {
     "data": {
      "text/plain": [
       "'water'"
      ]
     },
     "execution_count": 11,
     "metadata": {},
     "output_type": "execute_result"
    }
   ],
   "source": [
    "py_elements[-1]"
   ]
  },
  {
   "attachments": {},
   "cell_type": "markdown",
   "id": "6345bd52",
   "metadata": {},
   "source": [
    "## 1.3 Accessing data from a dictionary"
   ]
  },
  {
   "cell_type": "code",
   "execution_count": 17,
   "id": "544bffd5-f3bb-41f4-a380-655e9429aed9",
   "metadata": {},
   "outputs": [
    {
     "data": {
      "text/plain": [
       "'squirtle'"
      ]
     },
     "execution_count": 17,
     "metadata": {},
     "output_type": "execute_result"
    }
   ],
   "source": [
    "pokemon_starters[\"water\"]"
   ]
  },
  {
   "cell_type": "code",
   "execution_count": 19,
   "id": "65d03fa0-22b6-4769-8f7b-062afcb33a6e",
   "metadata": {},
   "outputs": [
    {
     "data": {
      "text/plain": [
       "dict_keys(['fire', 'grass', 'water'])"
      ]
     },
     "execution_count": 19,
     "metadata": {},
     "output_type": "execute_result"
    }
   ],
   "source": [
    "pokemon_starters.keys()"
   ]
  },
  {
   "cell_type": "code",
   "execution_count": 23,
   "id": "2a896ad9-d423-4214-887e-fe705cd44760",
   "metadata": {},
   "outputs": [
    {
     "data": {
      "text/plain": [
       "dict_values(['charmander', 'bulbasaur', 'squirtle'])"
      ]
     },
     "execution_count": 23,
     "metadata": {},
     "output_type": "execute_result"
    }
   ],
   "source": [
    "pokemon_starters.values()"
   ]
  },
  {
   "attachments": {},
   "cell_type": "markdown",
   "id": "6bdddbe6",
   "metadata": {},
   "source": [
    "## 1.4 Higher dimensional lists"
   ]
  },
  {
   "cell_type": "code",
   "execution_count": 26,
   "id": "742b13b1-c45e-4045-950a-467105353fba",
   "metadata": {},
   "outputs": [
    {
     "data": {
      "text/plain": [
       "['Stephen Strange', 'Doctor Strange']"
      ]
     },
     "execution_count": 26,
     "metadata": {},
     "output_type": "execute_result"
    }
   ],
   "source": [
    "py_superhero_info = [['Natasha Romanoff', 'Black Widow'],\n",
    "                     ['Tony Stark', 'Iron Man'],\n",
    "                     ['Stephen Strange', 'Doctor Strange']]\n",
    "\n",
    "py_superhero_info[2]"
   ]
  },
  {
   "attachments": {},
   "cell_type": "markdown",
   "id": "e2b8c9c3",
   "metadata": {},
   "source": [
    "# 2 Lists vs. Arrays"
   ]
  },
  {
   "attachments": {},
   "cell_type": "markdown",
   "id": "58965be3",
   "metadata": {},
   "source": [
    "## 2.1 Size"
   ]
  },
  {
   "cell_type": "code",
   "execution_count": 27,
   "id": "a1feff0b-ede2-446a-aaad-542ca4844a9f",
   "metadata": {},
   "outputs": [],
   "source": [
    "py_list_2d = [[1, \"A\"], [2, \"B\"], [3, \"C\"], [4, \"D\"],\n",
    "              [5, \"E\"], [6, \"F\"], [7, \"G\"], [8, \"H\"],\n",
    "              [9, \"I\"], [10, \"J\"]]\n",
    "\n",
    "np_array_2d = np.array(py_list_2d)"
   ]
  },
  {
   "cell_type": "code",
   "execution_count": 29,
   "id": "beadb05a-6f18-4f85-b34b-f68a4c41ab68",
   "metadata": {},
   "outputs": [
    {
     "data": {
      "text/plain": [
       "10"
      ]
     },
     "execution_count": 29,
     "metadata": {},
     "output_type": "execute_result"
    }
   ],
   "source": [
    "len(py_list_2d)"
   ]
  },
  {
   "cell_type": "code",
   "execution_count": 30,
   "id": "f12da7f1-96fa-491b-8761-d0ea24215876",
   "metadata": {},
   "outputs": [
    {
     "data": {
      "text/plain": [
       "10"
      ]
     },
     "execution_count": 30,
     "metadata": {},
     "output_type": "execute_result"
    }
   ],
   "source": [
    "len(np_array_2d)"
   ]
  },
  {
   "cell_type": "code",
   "execution_count": 32,
   "id": "65a1098c-40fb-4e14-849c-5192792fa3cb",
   "metadata": {},
   "outputs": [
    {
     "data": {
      "text/plain": [
       "(10, 2)"
      ]
     },
     "execution_count": 32,
     "metadata": {},
     "output_type": "execute_result"
    }
   ],
   "source": [
    "np_array_2d.shape #shape is a property of array"
   ]
  },
  {
   "attachments": {},
   "cell_type": "markdown",
   "id": "d95a8177",
   "metadata": {},
   "source": [
    "## 2.2 Arrays are fussy about type"
   ]
  },
  {
   "cell_type": "code",
   "execution_count": 37,
   "id": "2a5e31bc-b8e7-43c0-baf6-fad9beaa976c",
   "metadata": {},
   "outputs": [
    {
     "name": "stdout",
     "output_type": "stream",
     "text": [
      "[4, 1.5, 'B']\n"
     ]
    },
    {
     "data": {
      "text/plain": [
       "array(['4', '1.5', 'B'], dtype='<U32')"
      ]
     },
     "execution_count": 37,
     "metadata": {},
     "output_type": "execute_result"
    }
   ],
   "source": [
    "py_list=[4, 1.5, 'B']\n",
    "np_array=np.array(py_list)\n",
    "\n",
    "print(py_list)\n",
    "np_array"
   ]
  },
  {
   "attachments": {},
   "cell_type": "markdown",
   "id": "30ff9eec",
   "metadata": {},
   "source": [
    "## 2.3 Adding a number"
   ]
  },
  {
   "cell_type": "code",
   "execution_count": 42,
   "id": "d322a8e9-1493-4c08-9b5b-fe693b3ff60b",
   "metadata": {},
   "outputs": [],
   "source": [
    "py_list = [1, 2, 3, 4, 5]\n",
    "py_list_2=[6,7]\n",
    "np_array = np.array(py_list)"
   ]
  },
  {
   "cell_type": "code",
   "execution_count": 39,
   "id": "7d265521-217d-432e-b75d-c928ab4b7d12",
   "metadata": {},
   "outputs": [
    {
     "name": "stdout",
     "output_type": "stream",
     "text": [
      "[11 12 13 14 15]\n"
     ]
    }
   ],
   "source": [
    "print(np_array+10)"
   ]
  },
  {
   "cell_type": "code",
   "execution_count": 40,
   "id": "86b29e97-311e-42a6-93f4-4bcc4f34a1d7",
   "metadata": {},
   "outputs": [
    {
     "ename": "TypeError",
     "evalue": "can only concatenate list (not \"int\") to list",
     "output_type": "error",
     "traceback": [
      "\u001b[1;31m---------------------------------------------------------------------------\u001b[0m",
      "\u001b[1;31mTypeError\u001b[0m                                 Traceback (most recent call last)",
      "Cell \u001b[1;32mIn[40], line 1\u001b[0m\n\u001b[1;32m----> 1\u001b[0m \u001b[38;5;28mprint\u001b[39m(\u001b[43mpy_list\u001b[49m\u001b[38;5;241;43m+\u001b[39;49m\u001b[38;5;241;43m10\u001b[39;49m)\n",
      "\u001b[1;31mTypeError\u001b[0m: can only concatenate list (not \"int\") to list"
     ]
    }
   ],
   "source": [
    "print(py_list+10)"
   ]
  },
  {
   "attachments": {},
   "cell_type": "markdown",
   "id": "542fda0d",
   "metadata": {},
   "source": [
    "## 2.4 Adding another list"
   ]
  },
  {
   "cell_type": "code",
   "execution_count": 3,
   "id": "1c269bed-bdad-4dd0-a0a9-479378dfc30a",
   "metadata": {},
   "outputs": [],
   "source": [
    "py_list_1 = [1, 2, 3, 4, 5]\n",
    "py_list_2 = [10, 20, 30, 40, 50]\n",
    "\n",
    "np_array_1 = np.array(py_list_1)\n",
    "np_array_2 = np.array(py_list_2)"
   ]
  },
  {
   "cell_type": "code",
   "execution_count": 4,
   "id": "1de5a5ab-f46e-414d-96c5-1f3cdec79069",
   "metadata": {},
   "outputs": [
    {
     "name": "stdout",
     "output_type": "stream",
     "text": [
      "[1, 2, 3, 4, 5, 10, 20, 30, 40, 50]\n"
     ]
    }
   ],
   "source": [
    "print(py_list_1+py_list_2)"
   ]
  },
  {
   "cell_type": "code",
   "execution_count": 5,
   "id": "7b5a5459-2e0a-4e5b-b695-806f75d61c85",
   "metadata": {},
   "outputs": [
    {
     "name": "stdout",
     "output_type": "stream",
     "text": [
      "[11 22 33 44 55]\n"
     ]
    }
   ],
   "source": [
    "print(np_array_1+np_array_2)"
   ]
  },
  {
   "attachments": {},
   "cell_type": "markdown",
   "id": "a442f343",
   "metadata": {},
   "source": [
    "## 2.5 Multiplying by a Number"
   ]
  },
  {
   "cell_type": "code",
   "execution_count": 6,
   "id": "cd619cd9-33d5-4025-8dae-be379005fc3d",
   "metadata": {},
   "outputs": [],
   "source": [
    "py_list = [1, 2, 3, 4, 5]\n",
    "np_array = np.array(py_list)"
   ]
  },
  {
   "cell_type": "code",
   "execution_count": 7,
   "id": "7f7f476a-27f4-4e0e-b64c-c9f3868a586b",
   "metadata": {},
   "outputs": [
    {
     "name": "stdout",
     "output_type": "stream",
     "text": [
      "[1, 2, 3, 4, 5, 1, 2, 3, 4, 5]\n",
      "[ 2  4  6  8 10]\n"
     ]
    }
   ],
   "source": [
    "print(py_list*2)\n",
    "print(np_array*2)"
   ]
  },
  {
   "attachments": {},
   "cell_type": "markdown",
   "id": "a882bc9b",
   "metadata": {},
   "source": [
    "## 2.6 Squaring"
   ]
  },
  {
   "cell_type": "code",
   "execution_count": 8,
   "id": "1db3bfe6-f919-4d1a-b2db-506f127d37eb",
   "metadata": {},
   "outputs": [],
   "source": [
    "py_list = [1, 2, 3, 4, 5]\n",
    "np_array = np.array(py_list)"
   ]
  },
  {
   "cell_type": "code",
   "execution_count": 9,
   "id": "37085f7c-9e00-4384-9abd-58450a8a6f2a",
   "metadata": {},
   "outputs": [
    {
     "ename": "TypeError",
     "evalue": "unsupported operand type(s) for ** or pow(): 'list' and 'int'",
     "output_type": "error",
     "traceback": [
      "\u001b[1;31m---------------------------------------------------------------------------\u001b[0m",
      "\u001b[1;31mTypeError\u001b[0m                                 Traceback (most recent call last)",
      "Cell \u001b[1;32mIn[9], line 1\u001b[0m\n\u001b[1;32m----> 1\u001b[0m \u001b[38;5;28mprint\u001b[39m(\u001b[43mpy_list\u001b[49m\u001b[38;5;241;43m*\u001b[39;49m\u001b[38;5;241;43m*\u001b[39;49m\u001b[38;5;241;43m2\u001b[39;49m)\n",
      "\u001b[1;31mTypeError\u001b[0m: unsupported operand type(s) for ** or pow(): 'list' and 'int'"
     ]
    }
   ],
   "source": [
    "print(py_list**2)"
   ]
  },
  {
   "cell_type": "code",
   "execution_count": 10,
   "id": "9c28ada4-f9b1-4077-b5ac-02eba9731bde",
   "metadata": {},
   "outputs": [
    {
     "name": "stdout",
     "output_type": "stream",
     "text": [
      "[ 1  4  9 16 25]\n"
     ]
    }
   ],
   "source": [
    "print(np_array**2)"
   ]
  },
  {
   "attachments": {},
   "cell_type": "markdown",
   "id": "a8d6d2d6",
   "metadata": {},
   "source": [
    "## 2.7 Asking questions"
   ]
  },
  {
   "cell_type": "code",
   "execution_count": 11,
   "id": "beab15ae-a3ef-4e8b-b415-48370024384a",
   "metadata": {},
   "outputs": [],
   "source": [
    "py_list = [1, 2, 3, 4, 5]\n",
    "np_array = np.array(py_list)"
   ]
  },
  {
   "cell_type": "code",
   "execution_count": 14,
   "id": "1974cf85-2c5e-40bd-8488-c98afbd0829b",
   "metadata": {},
   "outputs": [
    {
     "name": "stdout",
     "output_type": "stream",
     "text": [
      "False\n"
     ]
    },
    {
     "ename": "TypeError",
     "evalue": "'>' not supported between instances of 'list' and 'int'",
     "output_type": "error",
     "traceback": [
      "\u001b[1;31m---------------------------------------------------------------------------\u001b[0m",
      "\u001b[1;31mTypeError\u001b[0m                                 Traceback (most recent call last)",
      "Cell \u001b[1;32mIn[14], line 2\u001b[0m\n\u001b[0;32m      1\u001b[0m \u001b[38;5;28mprint\u001b[39m(py_list\u001b[38;5;241m==\u001b[39m\u001b[38;5;241m3\u001b[39m)\n\u001b[1;32m----> 2\u001b[0m \u001b[38;5;28mprint\u001b[39m(\u001b[43mpy_list\u001b[49m\u001b[38;5;241;43m>\u001b[39;49m\u001b[38;5;241;43m3\u001b[39;49m)\n",
      "\u001b[1;31mTypeError\u001b[0m: '>' not supported between instances of 'list' and 'int'"
     ]
    }
   ],
   "source": [
    "print(py_list==3)\n",
    "print(py_list>3)"
   ]
  },
  {
   "cell_type": "code",
   "execution_count": 15,
   "id": "8b6356e5-3974-4e7a-b247-9ad35c060022",
   "metadata": {},
   "outputs": [
    {
     "name": "stdout",
     "output_type": "stream",
     "text": [
      "[False False  True False False]\n",
      "[False False False  True  True]\n"
     ]
    }
   ],
   "source": [
    "print(np_array==3)\n",
    "print(np_array>3)"
   ]
  },
  {
   "attachments": {},
   "cell_type": "markdown",
   "id": "7b9af65c",
   "metadata": {},
   "source": [
    "## 2.8 Mathematics"
   ]
  },
  {
   "cell_type": "code",
   "execution_count": 16,
   "id": "6ba886dd-4e17-4be3-bf56-f47ce61f68cc",
   "metadata": {},
   "outputs": [],
   "source": [
    "py_list = [1, 2, 3, 4, 5]\n",
    "np_array = np.array(py_list)         "
   ]
  },
  {
   "cell_type": "code",
   "execution_count": 18,
   "id": "cc0b1434-360d-46cc-a30c-15c243d50cff",
   "metadata": {},
   "outputs": [
    {
     "name": "stdout",
     "output_type": "stream",
     "text": [
      "15\n",
      "5\n",
      "1\n"
     ]
    }
   ],
   "source": [
    "print(sum(py_list))\n",
    "print(max(py_list))\n",
    "print(min(py_list))"
   ]
  },
  {
   "cell_type": "code",
   "execution_count": 22,
   "id": "0dea4b9d-5a0b-4271-b49c-b89151f5dc2f",
   "metadata": {},
   "outputs": [
    {
     "name": "stdout",
     "output_type": "stream",
     "text": [
      "15\n",
      "5\n",
      "1\n",
      "3.0\n",
      "1.4142135623730951\n"
     ]
    }
   ],
   "source": [
    "print(np_array.sum())\n",
    "print(np_array.max())\n",
    "print(np_array.min())\n",
    "print(np_array.mean())\n",
    "print(np_array.std())"
   ]
  },
  {
   "attachments": {},
   "cell_type": "markdown",
   "id": "585b99f1",
   "metadata": {},
   "source": [
    "# Exercises & Self-Assessment"
   ]
  },
  {
   "attachments": {},
   "cell_type": "markdown",
   "id": "4f70e7d9",
   "metadata": {},
   "source": [
    "## Footnotes"
   ]
  }
 ],
 "metadata": {
  "kernelspec": {
   "display_name": "Python 3 (ipykernel)",
   "language": "python",
   "name": "python3"
  },
  "language_info": {
   "codemirror_mode": {
    "name": "ipython",
    "version": 3
   },
   "file_extension": ".py",
   "mimetype": "text/x-python",
   "name": "python",
   "nbconvert_exporter": "python",
   "pygments_lexer": "ipython3",
   "version": "3.11.5"
  },
  "toc": {
   "base_numbering": 1,
   "nav_menu": {},
   "number_sections": true,
   "sideBar": true,
   "skip_h1_title": false,
   "title_cell": "Table of Contents",
   "title_sidebar": "Contents",
   "toc_cell": false,
   "toc_position": {},
   "toc_section_display": true,
   "toc_window_display": false
  },
  "vscode": {
   "interpreter": {
    "hash": "31f2aee4e71d21fbe5cf8b01ff0e069b9275f58929596ceb00d14d90e3e16cd6"
   }
  }
 },
 "nbformat": 4,
 "nbformat_minor": 5
}
