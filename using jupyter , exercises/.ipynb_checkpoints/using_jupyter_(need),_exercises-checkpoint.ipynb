{
 "cells": [
  {
   "attachments": {},
   "cell_type": "markdown",
   "id": "123456",
   "metadata": {},
   "source": [
    "<div style=\"text-align:left;font-size:2em\"><span style=\"font-weight:bolder;font-size:1.25em\">SP2273 | Learning Portfolio</span><br><br><span style=\"font-weight:bold;color:darkred\">Using Jupyter (Need), Exercises</span></div>"
   ]
  },
  {
   "attachments": {},
   "cell_type": "markdown",
   "id": "4cf5ba49",
   "metadata": {},
   "source": [
    "## Quadratic Equations"
   ]
  },
  {
   "attachments": {},
   "cell_type": "markdown",
   "id": "43d63556",
   "metadata": {},
   "source": [
    "### Introduction"
   ]
  },
  {
   "cell_type": "markdown",
   "id": "a50e181d-7a1c-431b-8591-cd0b053d3cbe",
   "metadata": {},
   "source": [
    "![](https://upload.wikimedia.org/wikipedia/commons/thumb/f/f8/Polynomialdeg2.svg/600px-Polynomialdeg2.svg.png)\n",
    "\n",
    "(*Image from the [Wikipedia page on Quanderic equations](https://en.wikipedia.org/wiki/Quadratic_equation)*)\n",
    "\n",
    "The general form of a quadretic equation is:\n",
    "\n",
    "$ax^2+bx+c=0$"
   ]
  },
  {
   "attachments": {},
   "cell_type": "markdown",
   "id": "d8aa51bc",
   "metadata": {},
   "source": [
    "### Solutions"
   ]
  },
  {
   "cell_type": "markdown",
   "id": "47d7590c-b095-4fc4-b016-9d9a1470d7a6",
   "metadata": {},
   "source": [
    "Provided $a≠0$, we can use an elementary algebraic method called [completing the square](https://en.wikipedia.org/wiki/Completing_the_square) to show that a quadretic equation has the following solution:\n",
    "\n",
    "$x=\\dfrac{-b\\pm\\sqrt{b^2-4ac}}{2a}$"
   ]
  },
  {
   "attachments": {},
   "cell_type": "markdown",
   "id": "f89b64c0",
   "metadata": {},
   "source": [
    "### Discriminant"
   ]
  },
  {
   "cell_type": "markdown",
   "id": "9403eb46-e6b1-42d3-a77a-7de84fa53b17",
   "metadata": {},
   "source": [
    "The quantity $\\Delta=b^2-4ac$ is called the **discriminat** of the equation and decides the nature of its solutions. The table below shows the various possibilities.\n",
    "\n",
    "| Discriminant       | Roots                                 |\r\n",
    "|--------------------|---------------------------------------|\r\n",
    "| $\\Delta=b^2-4a=0$  | A single solution of $-\\dfrac{b}{2a}$ |\r\n",
    "| $\\Delta=b^2-4agt0$ | Two distinct solutions                |\r\n",
    "| $\\Delta=b^2-4alt0$ | No real solutions; both are complex   | c3 |c3 |"
   ]
  },
  {
   "cell_type": "markdown",
   "id": "92524195-16ce-4a8a-a507-79eaff26f3b7",
   "metadata": {},
   "source": [
    "1. A Git repository is a folder that tracks changes made to its contents by uploading them to the cloud\n",
    "2. changes\n",
    "3. A commit is the act of specifiying which changed files to be uploaded in a repository. Additionally, it allows you add a brief description of what the changes are.\n",
    "4. A push uploads commited files onto the server from your computer.\n",
    "5. A pull downloads files on the server into your computer.\n",
    "6. GitHub is the cloud on the server while GitHub desktop is the local files on the computer."
   ]
  }
 ],
 "metadata": {
  "kernelspec": {
   "display_name": "Python 3 (ipykernel)",
   "language": "python",
   "name": "python3"
  },
  "language_info": {
   "codemirror_mode": {
    "name": "ipython",
    "version": 3
   },
   "file_extension": ".py",
   "mimetype": "text/x-python",
   "name": "python",
   "nbconvert_exporter": "python",
   "pygments_lexer": "ipython3",
   "version": "3.11.5"
  },
  "toc": {
   "base_numbering": 1,
   "nav_menu": {},
   "number_sections": true,
   "sideBar": true,
   "skip_h1_title": false,
   "title_cell": "Table of Contents",
   "title_sidebar": "Contents",
   "toc_cell": false,
   "toc_position": {},
   "toc_section_display": true,
   "toc_window_display": false
  },
  "vscode": {
   "interpreter": {
    "hash": "31f2aee4e71d21fbe5cf8b01ff0e069b9275f58929596ceb00d14d90e3e16cd6"
   }
  }
 },
 "nbformat": 4,
 "nbformat_minor": 5
}
