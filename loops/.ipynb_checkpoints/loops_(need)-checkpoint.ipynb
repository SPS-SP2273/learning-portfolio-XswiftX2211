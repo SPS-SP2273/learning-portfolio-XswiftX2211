{
 "cells": [
  {
   "attachments": {},
   "cell_type": "markdown",
   "id": "123456",
   "metadata": {},
   "source": [
    "<div style=\"text-align:left;font-size:2em\"><span style=\"font-weight:bolder;font-size:1.25em\">SP2273 | Learning Portfolio</span><br><br><span style=\"font-weight:bold;color:darkred\">Loops (Need)</span></div>"
   ]
  },
  {
   "attachments": {},
   "cell_type": "markdown",
   "id": "e970b266",
   "metadata": {},
   "source": [
    "# What to expect in this chapter"
   ]
  },
  {
   "attachments": {},
   "cell_type": "markdown",
   "id": "f408ffb8",
   "metadata": {},
   "source": [
    "# 1 The for iterator"
   ]
  },
  {
   "cell_type": "code",
   "execution_count": 1,
   "id": "cdedff5a-8e12-46ed-8c64-4d5b32089e97",
   "metadata": {},
   "outputs": [
    {
     "name": "stdout",
     "output_type": "stream",
     "text": [
      "charmander is a pokemon.\n"
     ]
    }
   ],
   "source": [
    "gen1_starters=['charmander','bulbasaur','squirtle']\n",
    "name=gen1_starters[0]\n",
    "print(f\"{name} is a pokemon.\")"
   ]
  },
  {
   "attachments": {},
   "cell_type": "markdown",
   "id": "cbfc9bcd",
   "metadata": {},
   "source": [
    "## 1.1 for with a list"
   ]
  },
  {
   "cell_type": "code",
   "execution_count": 4,
   "id": "c1c5e5dc-f2b1-4c47-8b74-a2b9069a7bb2",
   "metadata": {},
   "outputs": [
    {
     "name": "stdout",
     "output_type": "stream",
     "text": [
      "charmander is a pokemon.\n",
      "bulbasaur is a pokemon.\n",
      "squirtle is a pokemon.\n"
     ]
    }
   ],
   "source": [
    "for name in gen1_starters:\n",
    "    print(f\"{name} is a pokemon.\")"
   ]
  },
  {
   "attachments": {},
   "cell_type": "markdown",
   "id": "5084784e",
   "metadata": {},
   "source": [
    "## 1.2 for with enumerate"
   ]
  },
  {
   "cell_type": "code",
   "execution_count": 5,
   "id": "fe89acc7-a4d8-4d8b-b9f7-ee04baf8bc9a",
   "metadata": {},
   "outputs": [
    {
     "name": "stdout",
     "output_type": "stream",
     "text": [
      "0:fire is their typing.\n",
      "1:grass is their typing.\n",
      "2:water is their typing.\n"
     ]
    }
   ],
   "source": [
    "gen1_starters=['charmander','bulbasaur','squirtle']\n",
    "typings=['fire','grass','water']\n",
    "for count, name in enumerate(typings):\n",
    "    print(f'{count}:{name} is their typing.')"
   ]
  },
  {
   "cell_type": "code",
   "execution_count": 8,
   "id": "4c1fbf6d-8cd3-4320-8844-d57f8ae4a058",
   "metadata": {},
   "outputs": [
    {
     "name": "stdout",
     "output_type": "stream",
     "text": [
      "charmander is a fire type.\n",
      "bulbasaur is a grass type.\n",
      "squirtle is a water type.\n"
     ]
    }
   ],
   "source": [
    "for index, typing in enumerate(typings):\n",
    "    gen1_starter_names=gen1_starters[index]\n",
    "    print(f'{gen1_starter_names} is a {typing} type.')"
   ]
  },
  {
   "cell_type": "code",
   "execution_count": 9,
   "id": "b225cc34-48aa-4cd5-b447-4309fc5584ba",
   "metadata": {},
   "outputs": [
    {
     "name": "stdout",
     "output_type": "stream",
     "text": [
      "30:fire is their typing.\n",
      "31:grass is their typing.\n",
      "32:water is their typing.\n"
     ]
    }
   ],
   "source": [
    "gen1_starters=['charmander','bulbasaur','squirtle']\n",
    "typings=['fire','grass','water']\n",
    "for count, name in enumerate(typings,30):\n",
    "    print(f'{count}:{name} is their typing.')"
   ]
  },
  {
   "attachments": {},
   "cell_type": "markdown",
   "id": "f43381a2",
   "metadata": {},
   "source": [
    "## 1.3 for with range"
   ]
  },
  {
   "cell_type": "code",
   "execution_count": 10,
   "id": "b6d3a849-a43b-4f35-9d32-2d5342ae6036",
   "metadata": {},
   "outputs": [
    {
     "name": "stdout",
     "output_type": "stream",
     "text": [
      "0\n",
      "1\n",
      "2\n",
      "3\n",
      "4\n"
     ]
    }
   ],
   "source": [
    "for i in range(5):\n",
    "    print(i)"
   ]
  },
  {
   "cell_type": "code",
   "execution_count": 11,
   "id": "e04dbe7c-c91e-4a7f-8c62-c1f4765ef65a",
   "metadata": {},
   "outputs": [
    {
     "name": "stdout",
     "output_type": "stream",
     "text": [
      "5\n",
      "6\n",
      "7\n",
      "8\n",
      "9\n"
     ]
    }
   ],
   "source": [
    "for i in range(5, 10):\n",
    "    print(i)"
   ]
  },
  {
   "cell_type": "code",
   "execution_count": 12,
   "id": "66f90415-62ef-4bb5-8cde-33dfbb6a2494",
   "metadata": {},
   "outputs": [
    {
     "name": "stdout",
     "output_type": "stream",
     "text": [
      "4\n",
      "9\n",
      "14\n",
      "19\n"
     ]
    }
   ],
   "source": [
    "for i in range(4, 20, 5):\n",
    "    print(i)"
   ]
  },
  {
   "cell_type": "code",
   "execution_count": 14,
   "id": "1dd41cbc-0b8f-4ab2-aeba-175257b91e7a",
   "metadata": {},
   "outputs": [
    {
     "name": "stdout",
     "output_type": "stream",
     "text": [
      "charmander is a fire type.\n",
      "bulbasaur is a grass type.\n",
      "squirtle is a water type.\n"
     ]
    }
   ],
   "source": [
    "gen1_starters=['charmander','bulbasaur','squirtle']\n",
    "typings=['fire','grass','water']\n",
    "for x in range(len(gen1_starters)):\n",
    "    gen1_starter_name=gen1_starters[x]\n",
    "    type=typings[x]\n",
    "    print(f'{gen1_starter_name} is a {type} type.')"
   ]
  },
  {
   "attachments": {},
   "cell_type": "markdown",
   "id": "d86887af",
   "metadata": {},
   "source": [
    "# 2 while"
   ]
  },
  {
   "cell_type": "code",
   "execution_count": 15,
   "id": "a6827f37-1f3c-46eb-99f2-65818a50c1d8",
   "metadata": {},
   "outputs": [
    {
     "name": "stdout",
     "output_type": "stream",
     "text": [
      "0\n",
      "1\n",
      "2\n",
      "3\n",
      "4\n"
     ]
    }
   ],
   "source": [
    "number = 0\n",
    "\n",
    "while number < 5:\n",
    "    print(number)\n",
    "    number += 1"
   ]
  }
 ],
 "metadata": {
  "kernelspec": {
   "display_name": "Python 3 (ipykernel)",
   "language": "python",
   "name": "python3"
  },
  "language_info": {
   "codemirror_mode": {
    "name": "ipython",
    "version": 3
   },
   "file_extension": ".py",
   "mimetype": "text/x-python",
   "name": "python",
   "nbconvert_exporter": "python",
   "pygments_lexer": "ipython3",
   "version": "3.11.5"
  },
  "toc": {
   "base_numbering": 1,
   "nav_menu": {},
   "number_sections": true,
   "sideBar": true,
   "skip_h1_title": false,
   "title_cell": "Table of Contents",
   "title_sidebar": "Contents",
   "toc_cell": false,
   "toc_position": {},
   "toc_section_display": true,
   "toc_window_display": false
  },
  "vscode": {
   "interpreter": {
    "hash": "31f2aee4e71d21fbe5cf8b01ff0e069b9275f58929596ceb00d14d90e3e16cd6"
   }
  }
 },
 "nbformat": 4,
 "nbformat_minor": 5
}
