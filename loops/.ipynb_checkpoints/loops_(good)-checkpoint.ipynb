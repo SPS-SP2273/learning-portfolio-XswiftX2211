{
 "cells": [
  {
   "attachments": {},
   "cell_type": "markdown",
   "id": "123456",
   "metadata": {},
   "source": [
    "<div style=\"text-align:left;font-size:2em\"><span style=\"font-weight:bolder;font-size:1.25em\">SP2273 | Learning Portfolio</span><br><br><span style=\"font-weight:bold;color:darkred\">Loops (Good)</span></div>"
   ]
  },
  {
   "attachments": {},
   "cell_type": "markdown",
   "id": "dfa26dea",
   "metadata": {},
   "source": [
    "# What to expect in this chapter"
   ]
  },
  {
   "attachments": {},
   "cell_type": "markdown",
   "id": "8f608065",
   "metadata": {},
   "source": [
    "# 1 Interrupting the flow"
   ]
  },
  {
   "cell_type": "code",
   "execution_count": 1,
   "id": "e70f0d80-40f1-4003-b749-43f88c5c80f0",
   "metadata": {},
   "outputs": [
    {
     "name": "stdout",
     "output_type": "stream",
     "text": [
      "0 1\n",
      "1 10\n",
      "2 100\n",
      "3 1000\n"
     ]
    }
   ],
   "source": [
    "for power in range(5):\n",
    "    number = 10**power\n",
    "    if number > 5000:\n",
    "        break\n",
    "    print(power, number)"
   ]
  },
  {
   "cell_type": "code",
   "execution_count": 10,
   "id": "7ba6ca8a-5530-4134-9b17-1663257c1628",
   "metadata": {},
   "outputs": [
    {
     "name": "stdout",
     "output_type": "stream",
     "text": [
      "0 1\n",
      "1 10\n",
      "2 100\n",
      "4 10000\n"
     ]
    }
   ],
   "source": [
    "for power in range(5):\n",
    "    if power == 3:\n",
    "        continue \n",
    "    number = 10**power\n",
    "    print(power, number)"
   ]
  },
  {
   "cell_type": "code",
   "execution_count": 12,
   "id": "9a339ebc-c99e-4c5f-bea7-6b2b8773456d",
   "metadata": {},
   "outputs": [
    {
     "name": "stdout",
     "output_type": "stream",
     "text": [
      "0\n",
      "2\n",
      "4\n",
      "6\n",
      "8\n"
     ]
    }
   ],
   "source": [
    "for number in range(10):\n",
    "    if number % 2 == 1:\n",
    "        continue\n",
    "    print(number)"
   ]
  },
  {
   "cell_type": "code",
   "execution_count": 13,
   "id": "1ec4b621-f223-4132-b7c8-5e0bcf35c529",
   "metadata": {},
   "outputs": [
    {
     "name": "stdout",
     "output_type": "stream",
     "text": [
      "0\n",
      "1\n",
      "2\n",
      "3\n",
      "4\n"
     ]
    }
   ],
   "source": [
    "number=0\n",
    "while True:\n",
    "    print(number)\n",
    "    number+= 1\n",
    "    if number > 4: break"
   ]
  },
  {
   "attachments": {},
   "cell_type": "markdown",
   "id": "81ca31c2",
   "metadata": {},
   "source": [
    "# 2 List comprehension!"
   ]
  },
  {
   "attachments": {},
   "cell_type": "markdown",
   "id": "5a65cf91",
   "metadata": {},
   "source": [
    "## 2.1 Basic syntax"
   ]
  },
  {
   "cell_type": "code",
   "execution_count": 20,
   "id": "1d4b7a22-15c0-4f9d-9d53-6db532aa0baa",
   "metadata": {},
   "outputs": [
    {
     "name": "stdout",
     "output_type": "stream",
     "text": [
      "[1, 2, 3, 4]\n"
     ]
    }
   ],
   "source": [
    "print([n for n in range(1,5)])"
   ]
  },
  {
   "cell_type": "code",
   "execution_count": 18,
   "id": "e1e570f6-ffb8-4c65-93be-cf9a7bc285b2",
   "metadata": {},
   "outputs": [
    {
     "name": "stdout",
     "output_type": "stream",
     "text": [
      "[6, 8, 10, 12, 14, 16, 18]\n"
     ]
    }
   ],
   "source": [
    "print([x*2 for x in range(3,10)])"
   ]
  },
  {
   "attachments": {},
   "cell_type": "markdown",
   "id": "f3bff22a",
   "metadata": {},
   "source": [
    "## 2.2 List comprehension with conditions"
   ]
  },
  {
   "cell_type": "code",
   "execution_count": 23,
   "id": "c2798c86-8ccf-4161-a810-607aa0c5f03c",
   "metadata": {},
   "outputs": [
    {
     "name": "stdout",
     "output_type": "stream",
     "text": [
      "[0, 3, 6, 9, 12, 15, 18, 21, 24, 27, 30, 33, 36, 39, 42, 45, 48, 51, 54, 57, 60, 63, 66, 69, 72, 75, 78, 81, 84, 87, 90, 93, 96, 99]\n"
     ]
    }
   ],
   "source": [
    "print([x for x in range(100) if x%3==0])"
   ]
  },
  {
   "attachments": {},
   "cell_type": "markdown",
   "id": "7e4337e6",
   "metadata": {},
   "source": [
    "# 3 Other useful stuff"
   ]
  },
  {
   "attachments": {},
   "cell_type": "markdown",
   "id": "36d56d94",
   "metadata": {},
   "source": [
    "## 3.1 for with unpacking"
   ]
  },
  {
   "cell_type": "code",
   "execution_count": 24,
   "id": "1f8e84e7-1d71-4bfc-a7b6-a080b6472927",
   "metadata": {},
   "outputs": [
    {
     "name": "stdout",
     "output_type": "stream",
     "text": [
      "x = 1, y = 2, z = 3\n"
     ]
    }
   ],
   "source": [
    "x, y, z=[1, 2, 3]\n",
    "print(f'x = {x}, y = {y}, z = {z}')"
   ]
  },
  {
   "cell_type": "code",
   "execution_count": 25,
   "id": "131dd9c6-0ea0-467c-862e-17d5b1f471f1",
   "metadata": {},
   "outputs": [
    {
     "name": "stdout",
     "output_type": "stream",
     "text": [
      "charmander is a fire type.\n",
      "squirtle is a water type.\n",
      "bulbasaur is a grass type.\n"
     ]
    }
   ],
   "source": [
    "pokemon_starters=[['charmander','fire'], ['squirtle','water'], ['bulbasaur','grass']]\n",
    "\n",
    "for name, type in pokemon_starters:\n",
    "    print(f'{name} is a {type} type.')"
   ]
  },
  {
   "attachments": {},
   "cell_type": "markdown",
   "id": "3a134ecc",
   "metadata": {},
   "source": [
    "## 3.2 for with zip()"
   ]
  },
  {
   "cell_type": "code",
   "execution_count": 33,
   "id": "c978e78d-a8b2-4a40-bed1-c60e4a78884e",
   "metadata": {},
   "outputs": [
    {
     "name": "stdout",
     "output_type": "stream",
     "text": [
      "<zip object at 0x00000210B1D0E440>\n",
      "['A', 1]\n",
      "['B', 2]\n",
      "['C', 3]\n"
     ]
    }
   ],
   "source": [
    "letters=['A','B','C']\n",
    "numbers=[1,2,3]\n",
    "x=zip(letters, numbers)\n",
    "print(x) #returns an iterator\n",
    "for x in x:\n",
    "    print(list(x))"
   ]
  },
  {
   "attachments": {},
   "cell_type": "markdown",
   "id": "88090443",
   "metadata": {},
   "source": [
    "## 3.3 for with dictionaries"
   ]
  },
  {
   "cell_type": "code",
   "execution_count": 41,
   "id": "b438a4ef-9e76-4c4c-8fd5-c01efda07a0f",
   "metadata": {},
   "outputs": [
    {
     "name": "stdout",
     "output_type": "stream",
     "text": [
      "charmander is a fire type.\n",
      "squirtle is a water type.\n",
      "bulbasaur is a grass type.\n"
     ]
    }
   ],
   "source": [
    "pokemon_gen1_starters={'charmander': 'fire', \n",
    "                       'squirtle': 'water', \n",
    "                       'bulbasaur': 'grass'}\n",
    "for name, type in pokemon_gen1_starters.items(): #remember the .items()\n",
    "    print(f'{name} is a {type} type.')"
   ]
  },
  {
   "cell_type": "code",
   "execution_count": 45,
   "id": "ebcc1bf9-b97a-4ce7-9b19-dbea82d2fc68",
   "metadata": {},
   "outputs": [
    {
     "name": "stdout",
     "output_type": "stream",
     "text": [
      "charmander is a fire type.\n",
      "squirtle is a water type.\n",
      "bulbasaur is a grass type.\n"
     ]
    }
   ],
   "source": [
    "pokemon_gen1_starters={'charmander': 'fire', \n",
    "                       'squirtle': 'water', \n",
    "                       'bulbasaur': 'grass'}\n",
    "for name in pokemon_gen1_starters.keys():\n",
    "    type=pokemon_gen1_starters[name]\n",
    "    print(f'{name} is a {type} type.')"
   ]
  },
  {
   "attachments": {},
   "cell_type": "markdown",
   "id": "bd684bcb",
   "metadata": {},
   "source": [
    "## Footnotes"
   ]
  }
 ],
 "metadata": {
  "kernelspec": {
   "display_name": "Python 3 (ipykernel)",
   "language": "python",
   "name": "python3"
  },
  "language_info": {
   "codemirror_mode": {
    "name": "ipython",
    "version": 3
   },
   "file_extension": ".py",
   "mimetype": "text/x-python",
   "name": "python",
   "nbconvert_exporter": "python",
   "pygments_lexer": "ipython3",
   "version": "3.11.5"
  },
  "toc": {
   "base_numbering": 1,
   "nav_menu": {},
   "number_sections": true,
   "sideBar": true,
   "skip_h1_title": false,
   "title_cell": "Table of Contents",
   "title_sidebar": "Contents",
   "toc_cell": false,
   "toc_position": {},
   "toc_section_display": true,
   "toc_window_display": false
  },
  "vscode": {
   "interpreter": {
    "hash": "31f2aee4e71d21fbe5cf8b01ff0e069b9275f58929596ceb00d14d90e3e16cd6"
   }
  }
 },
 "nbformat": 4,
 "nbformat_minor": 5
}
