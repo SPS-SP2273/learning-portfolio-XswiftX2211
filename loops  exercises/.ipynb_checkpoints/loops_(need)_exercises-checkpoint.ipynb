{
 "cells": [
  {
   "attachments": {},
   "cell_type": "markdown",
   "id": "123456",
   "metadata": {},
   "source": [
    "<div style=\"text-align:left;font-size:2em\"><span style=\"font-weight:bolder;font-size:1.25em\">SP2273 | Learning Portfolio</span><br><br><span style=\"font-weight:bold;color:darkred\">Loops (Need) Exercises</span></div>"
   ]
  },
  {
   "cell_type": "code",
   "execution_count": 10,
   "id": "e87f126c-8254-4cb2-9e02-4f938e6f2c06",
   "metadata": {},
   "outputs": [
    {
     "name": "stdout",
     "output_type": "stream",
     "text": [
      "0°C = 32.0°F\n",
      "5°C = 41.0°F\n",
      "10°C = 50.0°F\n",
      "15°C = 59.0°F\n",
      "20°C = 68.0°F\n",
      "25°C = 77.0°F\n",
      "30°C = 86.0°F\n",
      "35°C = 95.0°F\n",
      "40°C = 104.0°F\n",
      "45°C = 113.0°F\n",
      "50°C = 122.0°F\n"
     ]
    }
   ],
   "source": [
    "import numpy as np\n",
    "temperatures_celsius = [\n",
    "    0, 5, 10, 15, 20, 25,\n",
    "    30, 35, 40, 45, 50\n",
    "]\n",
    "temp_c=np.array(temperatures_celsius)\n",
    "temp_f=np.array(temp_c*9/5+32)\n",
    "for x in range(len(temp_c)):\n",
    "    c=temp_c[x]\n",
    "    f=temp_f[x]\n",
    "    print(f'{c}°C = {f}°F')"
   ]
  },
  {
   "cell_type": "code",
   "execution_count": 5,
   "id": "8dfde4f0-4a9e-4852-a687-c80a2075a22d",
   "metadata": {},
   "outputs": [
    {
     "name": "stdout",
     "output_type": "stream",
     "text": [
      "A1\tA2\tA3\t\n",
      "\n",
      "B1\tB2\tB3\t\n",
      "\n",
      "C1\tC2\tC3\t\n",
      "\n"
     ]
    }
   ],
   "source": [
    "for letter in ['A', 'B', 'C']:\n",
    "    for number in [1, 2, 3]:\n",
    "        print(f'{letter}{number}', end='\\t')\n",
    "    print('\\n')"
   ]
  },
  {
   "cell_type": "code",
   "execution_count": 31,
   "id": "4d3d989f-7f0a-4c9e-9f6e-277f7e215d68",
   "metadata": {},
   "outputs": [
    {
     "name": "stdout",
     "output_type": "stream",
     "text": [
      "[[ 1  2  3  4  5]\n",
      " [ 2  4  6  8 10]\n",
      " [ 3  6  9 12 15]\n",
      " [ 4  8 12 16 20]\n",
      " [ 5 10 15 20 25]]\n"
     ]
    }
   ],
   "source": [
    "n=np.array([1,2,3,4,5])\n",
    "m=np.array([[1,1,1,1,1],[2,2,2,2,2],[3,3,3,3,3],[4,4,4,4,4],[5,5,5,5,5]])\n",
    "results=n*m\n",
    "print(results)"
   ]
  },
  {
   "cell_type": "code",
   "execution_count": 55,
   "id": "7b8ae907-b92f-4f0c-b983-214e6bb122d6",
   "metadata": {},
   "outputs": [
    {
     "name": "stdout",
     "output_type": "stream",
     "text": [
      "1: numbers*m\n",
      "1: numbers*m\n",
      "1: numbers*m\n",
      "1: numbers*m\n",
      "1: numbers*m\n",
      "2: numbers*m\n",
      "2: numbers*m\n",
      "2: numbers*m\n",
      "2: numbers*m\n",
      "2: numbers*m\n",
      "3: numbers*m\n",
      "3: numbers*m\n",
      "3: numbers*m\n",
      "3: numbers*m\n",
      "3: numbers*m\n",
      "4: numbers*m\n",
      "4: numbers*m\n",
      "4: numbers*m\n",
      "4: numbers*m\n",
      "4: numbers*m\n",
      "5: numbers*m\n",
      "5: numbers*m\n",
      "5: numbers*m\n",
      "5: numbers*m\n",
      "5: numbers*m\n"
     ]
    }
   ],
   "source": [
    "x=[1,2,3,4,5]\n",
    "n=np.array(x)\n",
    "for count, numbers in enumerate(n,1):\n",
    "    for m in range(1,6):\n",
    "        print(f'{count}: numbers*m')"
   ]
  },
  {
   "cell_type": "code",
   "execution_count": null,
   "id": "9bde50ee-424d-428c-bc20-70448938d8d7",
   "metadata": {},
   "outputs": [],
   "source": []
  }
 ],
 "metadata": {
  "kernelspec": {
   "display_name": "Python 3 (ipykernel)",
   "language": "python",
   "name": "python3"
  },
  "language_info": {
   "codemirror_mode": {
    "name": "ipython",
    "version": 3
   },
   "file_extension": ".py",
   "mimetype": "text/x-python",
   "name": "python",
   "nbconvert_exporter": "python",
   "pygments_lexer": "ipython3",
   "version": "3.11.5"
  },
  "toc": {
   "base_numbering": 1,
   "nav_menu": {},
   "number_sections": true,
   "sideBar": true,
   "skip_h1_title": false,
   "title_cell": "Table of Contents",
   "title_sidebar": "Contents",
   "toc_cell": false,
   "toc_position": {},
   "toc_section_display": true,
   "toc_window_display": false
  },
  "vscode": {
   "interpreter": {
    "hash": "31f2aee4e71d21fbe5cf8b01ff0e069b9275f58929596ceb00d14d90e3e16cd6"
   }
  }
 },
 "nbformat": 4,
 "nbformat_minor": 5
}
