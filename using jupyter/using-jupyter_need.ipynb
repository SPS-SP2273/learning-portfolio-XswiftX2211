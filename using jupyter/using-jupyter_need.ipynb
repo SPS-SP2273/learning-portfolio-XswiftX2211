{
 "cells": [
  {
   "cell_type": "code",
   "execution_count": 3,
   "id": "4ec06f57-ea5d-49bc-a8ec-03dfc7d62139",
   "metadata": {},
   "outputs": [
    {
     "name": "stdout",
     "output_type": "stream",
     "text": [
      "6\n"
     ]
    }
   ],
   "source": [
    "a=4\n",
    "b=2\n",
    "c=a+b\n",
    "print(c)"
   ]
  },
  {
   "cell_type": "markdown",
   "id": "e114d3a4-d52c-4cf4-90dc-b10d2df65f01",
   "metadata": {},
   "source": [
    "print('Hello World!')"
   ]
  },
  {
   "cell_type": "markdown",
   "id": "077ac662-caa1-45e2-97ab-b2ea4fef5946",
   "metadata": {},
   "source": [
    "print('hi')"
   ]
  },
  {
   "cell_type": "markdown",
   "id": "c097573b-5f3b-4bea-a9da-b2f7f7b2dfbd",
   "metadata": {},
   "source": [
    "This is the code of my life"
   ]
  },
  {
   "cell_type": "markdown",
   "id": "024b9648-bc58-4eb8-aceb-d5ec4a586c8a",
   "metadata": {},
   "source": [
    "The ships *hung in the sky* in much the same way that **bricks don't.** <sup>1</sup><sub>QUOTE</sub>"
   ]
  },
  {
   "cell_type": "markdown",
   "id": "cb10b3cf-44da-4edc-a7ef-037bacc5d046",
   "metadata": {},
   "source": [
    "# BIG ## Small"
   ]
  },
  {
   "cell_type": "markdown",
   "id": "b160f6e2-8725-4336-a499-b370fd2a527b",
   "metadata": {},
   "source": [
    "#### wow"
   ]
  },
  {
   "cell_type": "code",
   "execution_count": 1,
   "id": "b68209ee-d117-4dfa-a6e8-ade13cb970bc",
   "metadata": {},
   "outputs": [
    {
     "ename": "SyntaxError",
     "evalue": "invalid syntax (2968063354.py, line 1)",
     "output_type": "error",
     "traceback": [
      "\u001b[1;36m  Cell \u001b[1;32mIn[1], line 1\u001b[1;36m\u001b[0m\n\u001b[1;33m    'print('hello world')'\u001b[0m\n\u001b[1;37m            ^\u001b[0m\n\u001b[1;31mSyntaxError\u001b[0m\u001b[1;31m:\u001b[0m invalid syntax\n"
     ]
    }
   ],
   "source": [
    "'print('hello world')'"
   ]
  },
  {
   "cell_type": "code",
   "execution_count": 2,
   "id": "fbf9409f-66a2-43b1-b72f-9c54cb2314ca",
   "metadata": {},
   "outputs": [
    {
     "ename": "SyntaxError",
     "evalue": "unterminated string literal (detected at line 1) (3080108706.py, line 1)",
     "output_type": "error",
     "traceback": [
      "\u001b[1;36m  Cell \u001b[1;32mIn[2], line 1\u001b[1;36m\u001b[0m\n\u001b[1;33m    print(\"Hello 'print('world')')\u001b[0m\n\u001b[1;37m          ^\u001b[0m\n\u001b[1;31mSyntaxError\u001b[0m\u001b[1;31m:\u001b[0m unterminated string literal (detected at line 1)\n"
     ]
    }
   ],
   "source": [
    "print(\"Hello 'print('world')')"
   ]
  },
  {
   "cell_type": "code",
   "execution_count": 3,
   "id": "2bbd32a5-602f-4f6c-a63e-7ba29db75293",
   "metadata": {},
   "outputs": [
    {
     "name": "stdout",
     "output_type": "stream",
     "text": [
      "Hello 'print('world')'\n"
     ]
    }
   ],
   "source": [
    "print(\"Hello 'print('world')'\")"
   ]
  },
  {
   "cell_type": "code",
   "execution_count": 4,
   "id": "9f5147b5-e903-47d0-bd2e-fe803682209c",
   "metadata": {},
   "outputs": [
    {
     "ename": "SyntaxError",
     "evalue": "invalid syntax (1595893654.py, line 1)",
     "output_type": "error",
     "traceback": [
      "\u001b[1;36m  Cell \u001b[1;32mIn[4], line 1\u001b[1;36m\u001b[0m\n\u001b[1;33m    `print('hello world')`\u001b[0m\n\u001b[1;37m    ^\u001b[0m\n\u001b[1;31mSyntaxError\u001b[0m\u001b[1;31m:\u001b[0m invalid syntax\n"
     ]
    }
   ],
   "source": [
    "`print('hello world')`"
   ]
  },
  {
   "cell_type": "code",
   "execution_count": 5,
   "id": "61872758-5d14-43d0-a3d3-362c8b38bc92",
   "metadata": {},
   "outputs": [
    {
     "name": "stdout",
     "output_type": "stream",
     "text": [
      "Hello `print('world')`\n"
     ]
    }
   ],
   "source": [
    "print(\"Hello `print('world')`\")"
   ]
  },
  {
   "cell_type": "code",
   "execution_count": 6,
   "id": "296188cd-9911-43f1-aeb4-5a91e9bbf332",
   "metadata": {},
   "outputs": [
    {
     "ename": "SyntaxError",
     "evalue": "invalid syntax (281737397.py, line 1)",
     "output_type": "error",
     "traceback": [
      "\u001b[1;36m  Cell \u001b[1;32mIn[6], line 1\u001b[1;36m\u001b[0m\n\u001b[1;33m    ```python\u001b[0m\n\u001b[1;37m    ^\u001b[0m\n\u001b[1;31mSyntaxError\u001b[0m\u001b[1;31m:\u001b[0m invalid syntax\n"
     ]
    }
   ],
   "source": [
    "```python\n",
    "print('Hello World!')\n",
    "```"
   ]
  },
  {
   "cell_type": "code",
   "execution_count": 7,
   "id": "860b3444-b2e8-4175-8054-f84715f6bdac",
   "metadata": {},
   "outputs": [
    {
     "ename": "SyntaxError",
     "evalue": "invalid syntax (565407519.py, line 1)",
     "output_type": "error",
     "traceback": [
      "\u001b[1;36m  Cell \u001b[1;32mIn[7], line 1\u001b[1;36m\u001b[0m\n\u001b[1;33m    ```print('Hello World!')```\u001b[0m\n\u001b[1;37m    ^\u001b[0m\n\u001b[1;31mSyntaxError\u001b[0m\u001b[1;31m:\u001b[0m invalid syntax\n"
     ]
    }
   ],
   "source": [
    "```print('Hello World!')```"
   ]
  },
  {
   "cell_type": "code",
   "execution_count": 8,
   "id": "f59815c5-c7f1-4c39-b4e8-7db47291b26f",
   "metadata": {},
   "outputs": [
    {
     "ename": "SyntaxError",
     "evalue": "invalid syntax (3435486950.py, line 1)",
     "output_type": "error",
     "traceback": [
      "\u001b[1;36m  Cell \u001b[1;32mIn[8], line 1\u001b[1;36m\u001b[0m\n\u001b[1;33m    ''print ('Hello World')''\u001b[0m\n\u001b[1;37m      ^\u001b[0m\n\u001b[1;31mSyntaxError\u001b[0m\u001b[1;31m:\u001b[0m invalid syntax\n"
     ]
    }
   ],
   "source": [
    "''print ('Hello World')''"
   ]
  },
  {
   "cell_type": "markdown",
   "id": "cde3b4ba-1a05-486b-b067-1e32adc338d2",
   "metadata": {},
   "source": [
    "`print('Hello World')`"
   ]
  },
  {
   "cell_type": "markdown",
   "id": "f432686e-0ce6-4af6-bd9b-abb008731322",
   "metadata": {},
   "source": [
    "`print('Hi')`"
   ]
  },
  {
   "cell_type": "markdown",
   "id": "c47f72af-99bd-4f12-ae2e-84139fb8d995",
   "metadata": {},
   "source": [
    "[sps2273](https://sps.nus.edu.sg/sp2273)"
   ]
  },
  {
   "cell_type": "markdown",
   "id": "ef701116-6d1c-45ca-9f42-47789501dd74",
   "metadata": {},
   "source": [
    "![NUS](https://nus.edu.sg/images/default-source/base/logo.png)"
   ]
  },
  {
   "cell_type": "markdown",
   "id": "6f4ae95f-1be6-4f9a-9a80-33c99037e774",
   "metadata": {},
   "source": [
    "![](data:image/jpeg;base64,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)"
   ]
  },
  {
   "cell_type": "markdown",
   "id": "badda82f-9a49-49d7-bd58-2a503e8e5c96",
   "metadata": {},
   "source": [
    "\\begin{table}[]\n",
    "\\begin{tabular}{lllll}\n",
    "24 & 25 & 30 &  &  \\\\\n",
    "23 & 26 & 50 &  &  \\\\\n",
    "   &    &    &  &  \\\\\n",
    "   &    &    &  & \n",
    "\\end{tabular}\n",
    "\\end{table}"
   ]
  },
  {
   "cell_type": "code",
   "execution_count": 9,
   "id": "b07f5829-a625-4bd2-86a2-0b12887d994d",
   "metadata": {},
   "outputs": [
    {
     "ename": "SyntaxError",
     "evalue": "unexpected character after line continuation character (1016371369.py, line 1)",
     "output_type": "error",
     "traceback": [
      "\u001b[1;36m  Cell \u001b[1;32mIn[9], line 1\u001b[1;36m\u001b[0m\n\u001b[1;33m    \\begin{table}[]\u001b[0m\n\u001b[1;37m     ^\u001b[0m\n\u001b[1;31mSyntaxError\u001b[0m\u001b[1;31m:\u001b[0m unexpected character after line continuation character\n"
     ]
    }
   ],
   "source": [
    "\\begin{table}[]\n",
    "\\begin{tabular}{lllll}\n",
    "24 & 25 & 30 &  &  \\\\\n",
    "23 & 26 & 50 &  &  \\\\\n",
    "   &    &    &  &  \\\\\n",
    "   &    &    &  & \n",
    "\\end{tabular}\n",
    "\\end{table}"
   ]
  },
  {
   "cell_type": "markdown",
   "id": "511ef586-62a8-4941-a2ac-149bbcb4987e",
   "metadata": {},
   "source": [
    "| A    |  B   |    C |\r\n",
    "| :--- | :--: | ---: |\r\n",
    "| a1   |  b1  |   c1 |\r\n",
    "| a2   |  b2  |   c2 |\r\n",
    "| a3   |  b3  |   c3 |"
   ]
  },
  {
   "cell_type": "markdown",
   "id": "3551dd35-2b66-4432-8497-dfabcc112ef6",
   "metadata": {},
   "source": [
    "\\begin{table}[]\r\n",
    "\\begin{tabular}{lll}\r\n",
    "24 & 25 & 30 \\\\\r\n",
    "23 & 26 & 50\r\n",
    "\\end{tabular}\r\n",
    "\\end{table}"
   ]
  },
  {
   "cell_type": "code",
   "execution_count": 10,
   "id": "49d75493-87ee-474a-8024-2599873678d0",
   "metadata": {},
   "outputs": [
    {
     "ename": "SyntaxError",
     "evalue": "invalid syntax (2993608267.py, line 1)",
     "output_type": "error",
     "traceback": [
      "\u001b[1;36m  Cell \u001b[1;32mIn[10], line 1\u001b[1;36m\u001b[0m\n\u001b[1;33m    | 24 | 25 | 30 |\u001b[0m\n\u001b[1;37m    ^\u001b[0m\n\u001b[1;31mSyntaxError\u001b[0m\u001b[1;31m:\u001b[0m invalid syntax\n"
     ]
    }
   ],
   "source": [
    "| 24 | 25 | 30 |\n",
    "|----|----|----|\n",
    "| 23 | 26 | 50 |"
   ]
  },
  {
   "cell_type": "code",
   "execution_count": 11,
   "id": "1909506c-42e2-4968-8bdc-d3bbb92d1e8e",
   "metadata": {},
   "outputs": [
    {
     "ename": "SyntaxError",
     "evalue": "invalid syntax (2045799634.py, line 1)",
     "output_type": "error",
     "traceback": [
      "\u001b[1;36m  Cell \u001b[1;32mIn[11], line 1\u001b[1;36m\u001b[0m\n\u001b[1;33m    | 24 | 25 | 30 |\u001b[0m\n\u001b[1;37m    ^\u001b[0m\n\u001b[1;31mSyntaxError\u001b[0m\u001b[1;31m:\u001b[0m invalid syntax\n"
     ]
    }
   ],
   "source": [
    "| 24 | 25 | 30 |\n",
    "|:---|:--:|---:|\n",
    "| 23 | 26 | 50 |"
   ]
  },
  {
   "cell_type": "markdown",
   "id": "df19c1fa-4277-4b51-9663-21f2e9966757",
   "metadata": {},
   "source": [
    "| 24 | 25 | 30 |\r\n",
    "|----|----|----|\r\n",
    "| 23 | 26 | 50 |"
   ]
  },
  {
   "cell_type": "markdown",
   "id": "261bfa97-81b5-435f-9e0b-9cd1cf566e88",
   "metadata": {},
   "source": [
    "1. hi\n",
    "2. bye\n",
    "3. wow"
   ]
  },
  {
   "cell_type": "markdown",
   "id": "c2aa426f-4866-4536-9a86-380c8cf3452f",
   "metadata": {},
   "source": [
    "-ssd\n",
    "-sdsds\n",
    "-sdsdsd"
   ]
  },
  {
   "cell_type": "markdown",
   "id": "ceaf3e73-4ff5-469d-b182-0b964693255f",
   "metadata": {},
   "source": [
    "- sds\n",
    "- sds\n",
    "- dsdsdsd"
   ]
  },
  {
   "cell_type": "markdown",
   "id": "8403cab9-0b7b-4bfd-9291-59373ff266b0",
   "metadata": {},
   "source": [
    "1. wow\n",
    "   - sdsds\n",
    "   - dsds\n",
    "2. owo\n",
    "   - omo\n",
    "   - o.O"
   ]
  },
  {
   "cell_type": "markdown",
   "id": "d354ac20-bb25-4b01-ae21-52fc2c396421",
   "metadata": {},
   "source": [
    "\\alpha"
   ]
  },
  {
   "cell_type": "markdown",
   "id": "599db519-b592-49a1-b2f7-6df366132a3d",
   "metadata": {},
   "source": [
    "$\\dfrac{-b \\pm \\sqrt{b^2-4ac}}{2a}$"
   ]
  },
  {
   "cell_type": "markdown",
   "id": "ba90e7ef-b5bc-43fc-924a-64a29164610a",
   "metadata": {},
   "source": [
    "$\\alpha$"
   ]
  },
  {
   "cell_type": "markdown",
   "id": "0be2b26d-53a8-4576-99ee-aeb43dc91ed0",
   "metadata": {},
   "source": []
  },
  {
   "cell_type": "code",
   "execution_count": null,
   "id": "2425746a-2085-43df-b809-d87a764825d3",
   "metadata": {},
   "outputs": [],
   "source": []
  },
  {
   "cell_type": "code",
   "execution_count": null,
   "id": "cc2aa95b-819a-4f27-8264-a824db413690",
   "metadata": {},
   "outputs": [],
   "source": []
  }
 ],
 "metadata": {
  "kernelspec": {
   "display_name": "Python 3 (ipykernel)",
   "language": "python",
   "name": "python3"
  },
  "language_info": {
   "codemirror_mode": {
    "name": "ipython",
    "version": 3
   },
   "file_extension": ".py",
   "mimetype": "text/x-python",
   "name": "python",
   "nbconvert_exporter": "python",
   "pygments_lexer": "ipython3",
   "version": "3.11.5"
  }
 },
 "nbformat": 4,
 "nbformat_minor": 5
}
