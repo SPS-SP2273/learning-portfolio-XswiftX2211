{
 "cells": [
  {
   "attachments": {},
   "cell_type": "markdown",
   "id": "123456",
   "metadata": {},
   "source": [
    "<div style=\"text-align:left;font-size:2em\"><span style=\"font-weight:bolder;font-size:1.25em\">SP2273 | Learning Portfolio</span><br><br><span style=\"font-weight:bold;color:darkred\">Functions (Need) Exercises</span></div>"
   ]
  },
  {
   "cell_type": "markdown",
   "id": "2d2dc99d-7378-40b4-a221-91ecfd420c99",
   "metadata": {},
   "source": [
    "The function still works as there is still a default return."
   ]
  },
  {
   "cell_type": "code",
   "execution_count": 16,
   "id": "15c36e74-6a50-4a0d-b3a9-24e42112a1a0",
   "metadata": {},
   "outputs": [
    {
     "name": "stdout",
     "output_type": "stream",
     "text": [
      "('19.596', 'normal')\n",
      "('53.333', 'obese')\n"
     ]
    }
   ],
   "source": [
    "def BMI_cal(weight, height):\n",
    "    BMI=weight/(height**2)\n",
    "    if BMI<18.5:\n",
    "        range='underwieght'\n",
    "    elif 18.5<=BMI<=24.9:\n",
    "        range='normal'\n",
    "    elif 24.9<BMI<30:\n",
    "        range='overweight'\n",
    "    else:\n",
    "        range='obese'\n",
    "    return '%.3f'%BMI, range #3 decimal place for values as compared to {0:.3f} for strings\n",
    "\n",
    "print(BMI_cal(70, 1.89))\n",
    "print(BMI_cal(120, 1.5))"
   ]
  }
 ],
 "metadata": {
  "kernelspec": {
   "display_name": "Python 3 (ipykernel)",
   "language": "python",
   "name": "python3"
  },
  "language_info": {
   "codemirror_mode": {
    "name": "ipython",
    "version": 3
   },
   "file_extension": ".py",
   "mimetype": "text/x-python",
   "name": "python",
   "nbconvert_exporter": "python",
   "pygments_lexer": "ipython3",
   "version": "3.11.5"
  },
  "toc": {
   "base_numbering": 1,
   "nav_menu": {},
   "number_sections": true,
   "sideBar": true,
   "skip_h1_title": false,
   "title_cell": "Table of Contents",
   "title_sidebar": "Contents",
   "toc_cell": false,
   "toc_position": {},
   "toc_section_display": true,
   "toc_window_display": false
  },
  "vscode": {
   "interpreter": {
    "hash": "31f2aee4e71d21fbe5cf8b01ff0e069b9275f58929596ceb00d14d90e3e16cd6"
   }
  }
 },
 "nbformat": 4,
 "nbformat_minor": 5
}
