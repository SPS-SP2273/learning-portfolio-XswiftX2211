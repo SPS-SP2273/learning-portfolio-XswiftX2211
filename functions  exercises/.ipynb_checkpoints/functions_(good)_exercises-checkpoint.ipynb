{
 "cells": [
  {
   "attachments": {},
   "cell_type": "markdown",
   "id": "123456",
   "metadata": {},
   "source": [
    "<div style=\"text-align:left;font-size:2em\"><span style=\"font-weight:bolder;font-size:1.25em\">SP2273 | Learning Portfolio</span><br><br><span style=\"font-weight:bold;color:darkred\">Functions (Good) Exercises</span></div>"
   ]
  },
  {
   "cell_type": "code",
   "execution_count": 25,
   "id": "d872fdff-d1d7-4ae5-b052-f46af8698cf6",
   "metadata": {},
   "outputs": [
    {
     "name": "stdout",
     "output_type": "stream",
     "text": [
      "77.0\n",
      "298.15\n",
      "Invalid temperature or unit.\n",
      "None\n"
     ]
    }
   ],
   "source": [
    "def convert_celsius(temp, target):\n",
    "    if target=='fahrenheit':\n",
    "        f_temp=(temp*9/5) + 32\n",
    "        return f_temp\n",
    "    elif target=='kelvin':\n",
    "        k_temp=temp+273.15\n",
    "        return k_temp\n",
    "    else:\n",
    "        print('Invalid temperature or unit.')\n",
    "\n",
    "print(convert_celsius(25, 'fahrenheit'))\n",
    "print(convert_celsius(25, 'kelvin'))\n",
    "print(convert_celsius(25, 'farenheit'))"
   ]
  },
  {
   "cell_type": "code",
   "execution_count": 26,
   "id": "8d5d2e9d-6a90-4cf3-b6a8-66edf8b86aed",
   "metadata": {},
   "outputs": [
    {
     "name": "stdout",
     "output_type": "stream",
     "text": [
      "25.0\n",
      "298.15\n",
      "Invalid temperature or unit.\n",
      "None\n"
     ]
    }
   ],
   "source": [
    "def convert_fahrenheit(temp, target):\n",
    "    if target=='celsius':\n",
    "        c_temp=(temp-32)*5/9\n",
    "        return c_temp\n",
    "    elif target=='kelvin':\n",
    "        k_temp=(temp-32)*5/9 + 273.15\n",
    "        return k_temp\n",
    "    else:\n",
    "        print('Invalid temperature or unit.')\n",
    "\n",
    "print(convert_fahrenheit(77, 'celsius'))\n",
    "print(convert_fahrenheit(77, 'kelvin'))\n",
    "print(convert_fahrenheit(77, 'kevin'))"
   ]
  },
  {
   "cell_type": "code",
   "execution_count": 30,
   "id": "58d9d5ba-4e61-4b3d-8f73-23a0dadf2dae",
   "metadata": {},
   "outputs": [
    {
     "name": "stdout",
     "output_type": "stream",
     "text": [
      "298.15\n"
     ]
    }
   ],
   "source": [
    "def convert_kelvin(temp, target):\n",
    "    if target=='celsius':\n",
    "        c_temp=temp-273.15\n",
    "        return c_temp\n",
    "    elif target=='fahrenheit':\n",
    "        k_temp=(temp-273.15)*9/5+32\n",
    "        return k_temp\n",
    "    else:\n",
    "        print('Invalid temperature or unit.')\n",
    "\n",
    "def convert_temperature(temp, source, target):\n",
    "    if source=='celsius':\n",
    "        return convert_celsius(temp, target)\n",
    "    elif source=='fahrenheit':\n",
    "        return convert_fahrenheit(temp, target)\n",
    "    elif source=='kelvin':\n",
    "        return convert_kelvin(temp, target)\n",
    "    else:\n",
    "        print('Invalid temperature or unit.')\n",
    "\n",
    "print(convert_temperature(25, 'celsius', 'kelvin'))"
   ]
  }
 ],
 "metadata": {
  "kernelspec": {
   "display_name": "Python 3 (ipykernel)",
   "language": "python",
   "name": "python3"
  },
  "language_info": {
   "codemirror_mode": {
    "name": "ipython",
    "version": 3
   },
   "file_extension": ".py",
   "mimetype": "text/x-python",
   "name": "python",
   "nbconvert_exporter": "python",
   "pygments_lexer": "ipython3",
   "version": "3.11.5"
  },
  "toc": {
   "base_numbering": 1,
   "nav_menu": {},
   "number_sections": true,
   "sideBar": true,
   "skip_h1_title": false,
   "title_cell": "Table of Contents",
   "title_sidebar": "Contents",
   "toc_cell": false,
   "toc_position": {},
   "toc_section_display": true,
   "toc_window_display": false
  },
  "vscode": {
   "interpreter": {
    "hash": "31f2aee4e71d21fbe5cf8b01ff0e069b9275f58929596ceb00d14d90e3e16cd6"
   }
  }
 },
 "nbformat": 4,
 "nbformat_minor": 5
}
