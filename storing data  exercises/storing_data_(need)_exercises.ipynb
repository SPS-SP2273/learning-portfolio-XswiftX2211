{
 "cells": [
  {
   "attachments": {},
   "cell_type": "markdown",
   "id": "123456",
   "metadata": {},
   "source": [
    "<div style=\"text-align:left;font-size:2em\"><span style=\"font-weight:bolder;font-size:1.25em\">SP2273 | Learning Portfolio</span><br><br><span style=\"font-weight:bold;color:darkred\">Storing Data (Need) Exercises</span></div>"
   ]
  },
  {
   "cell_type": "markdown",
   "id": "ff9933a1-4ec8-42fc-bafb-967398073c91",
   "metadata": {},
   "source": [
    "## Similarities ##\n",
    "1. Both list and arrays store data\n",
    "2. Both list and arrays are order specific\n",
    "\n",
    "## Differences ##\n",
    "1. Certain mathematical functions like addition of numbers works on arrays but not on list\n",
    "2. Arrays have access to more numpy functions like np.mean() while list do not.\n",
    "\n",
    "A dictionary is a stores mulitple data with a key. It can store mulitple information as compared to needing mulitple list or arrays."
   ]
  },
  {
   "cell_type": "code",
   "execution_count": 37,
   "id": "1970dd2a-6ac6-41ec-b4fc-22eaf6107716",
   "metadata": {},
   "outputs": [
    {
     "name": "stdout",
     "output_type": "stream",
     "text": [
      "['a1', 'c3', 'e5', 'g7', 'i9']\n"
     ]
    }
   ],
   "source": [
    "py_list = [\"a1\", \"b2\", \"c3\", \"d4\", \"e5\", \"f6\", \"g7\", \"h8\", \"i9\", \"j10\"]\n",
    "odd=[]\n",
    "for index, item in enumerate(py_list): #enumerate only in loops\n",
    "    if index % 2==0:\n",
    "        odd.append(item)\n",
    "print(odd) "
   ]
  },
  {
   "cell_type": "code",
   "execution_count": 1,
   "id": "ff8f540e-b241-4582-b97d-42a3c2297ae8",
   "metadata": {},
   "outputs": [
    {
     "name": "stdout",
     "output_type": "stream",
     "text": [
      "Beryllium\n",
      "Beryllium\n"
     ]
    }
   ],
   "source": [
    "elements = ['Hydrogen',\n",
    "            'Helium', 'Lithium',\n",
    "            'Beryllium', 'Boron', 'Carbon',\n",
    "            'Nitrogen', 'Oxygen',\n",
    "            'Fluorine',\n",
    "            'Neon']\n",
    "\n",
    "print(elements[3])\n",
    "print(elements[-7]) #starts from -1 in reverse instead of 0 in forward"
   ]
  },
  {
   "cell_type": "code",
   "execution_count": 55,
   "id": "7982ab71-bda6-4768-a426-d8f15c4f5ebc",
   "metadata": {},
   "outputs": [
    {
     "name": "stdout",
     "output_type": "stream",
     "text": [
      "9\n"
     ]
    }
   ],
   "source": [
    "numbers=[45, 60, 1, 30, 96, 1, 96, 57, 16, 1,\n",
    "        99, 62, 86, 43, 42, 60, 59, 1, 1, 35,\n",
    "        83, 47, 34, 28, 68, 23, 22, 92, 1, 79,\n",
    "        1, 29, 94, 72, 46, 47, 1, 74, 32, 20,\n",
    "        8, 37, 35, 1, 89, 29, 86, 19, 43, 61]\n",
    "ones=[n for n in numbers if n==1] #list comprehension\n",
    "print(len(ones))"
   ]
  },
  {
   "cell_type": "code",
   "execution_count": null,
   "id": "e4d1100d-67c0-4bcd-af7a-a8fae88da9d1",
   "metadata": {},
   "outputs": [],
   "source": []
  }
 ],
 "metadata": {
  "kernelspec": {
   "display_name": "Python 3 (ipykernel)",
   "language": "python",
   "name": "python3"
  },
  "language_info": {
   "codemirror_mode": {
    "name": "ipython",
    "version": 3
   },
   "file_extension": ".py",
   "mimetype": "text/x-python",
   "name": "python",
   "nbconvert_exporter": "python",
   "pygments_lexer": "ipython3",
   "version": "3.11.5"
  },
  "toc": {
   "base_numbering": 1,
   "nav_menu": {},
   "number_sections": true,
   "sideBar": true,
   "skip_h1_title": false,
   "title_cell": "Table of Contents",
   "title_sidebar": "Contents",
   "toc_cell": false,
   "toc_position": {},
   "toc_section_display": true,
   "toc_window_display": false
  },
  "vscode": {
   "interpreter": {
    "hash": "31f2aee4e71d21fbe5cf8b01ff0e069b9275f58929596ceb00d14d90e3e16cd6"
   }
  }
 },
 "nbformat": 4,
 "nbformat_minor": 5
}
