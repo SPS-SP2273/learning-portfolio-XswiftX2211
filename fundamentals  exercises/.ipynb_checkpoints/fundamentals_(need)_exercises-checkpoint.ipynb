{
 "cells": [
  {
   "attachments": {},
   "cell_type": "markdown",
   "id": "123456",
   "metadata": {},
   "source": [
    "<div style=\"text-align:left;font-size:2em\"><span style=\"font-weight:bolder;font-size:1.25em\">SP2273 | Learning Portfolio</span><br><br><span style=\"font-weight:bold;color:darkred\">Fundamentals (Need) Exercises</span></div>"
   ]
  },
  {
   "cell_type": "markdown",
   "id": "690ff757-cdf5-402b-9e5e-e7ac91687e5d",
   "metadata": {},
   "source": [
    "1. print\n",
    "2. list\n",
    "3. packages (eg. numpy, math)\n",
    "4. vairable (x=10)\n",
    "5. Math (3**2, math.sqrt)\n",
    "6. if, else\n",
    "7. while\n",
    "8. *Comments*\n",
    "9. *= and ==*\n",
    "10. *Indentations*\n",
    "11. *Brackets*"
   ]
  },
  {
   "cell_type": "code",
   "execution_count": 1,
   "id": "5d0a6e45-9429-4491-8e60-239591799f82",
   "metadata": {},
   "outputs": [],
   "source": [
    "import numpy as nu"
   ]
  },
  {
   "cell_type": "code",
   "execution_count": 7,
   "id": "5e925633-19aa-4a7c-a601-2370b3e4f8cf",
   "metadata": {},
   "outputs": [
    {
     "name": "stdout",
     "output_type": "stream",
     "text": [
      "3 4 5.0\n"
     ]
    }
   ],
   "source": [
    "x,y = 3,4\n",
    "z=nu.sqrt(x**2+y**2)\n",
    "print(x,y,z)"
   ]
  },
  {
   "cell_type": "markdown",
   "id": "32e42a0d-27b9-46a5-bd7b-0cccff81713a",
   "metadata": {},
   "source": [
    "|  # | Term         | Description                                                                                                    |\r\n",
    "|:--:|--------------|----------------------------------------------------------------------------------------------------------------|\r\n",
    "|  1 | Function     | It is an instruction that carries out a task.                                                                  |\r\n",
    "|  2 | Arguments    | They are the parameters of a function.                                                                         |\r\n",
    "|  3 | Comments     | They are statements or sentences added for better human comprehension of code.                                 |\r\n",
    "|  4 | Indentations | They are spaces to align functions and arguments.                                                              |\r\n",
    "|  5 | Packages     | They are a set of functions that can be added to python.                                                       |\r\n",
    "|  6 | .            | It indicates where the function is from. (eg. math.sqrt indicates that sqrt function is from the math package) |\r\n",
    "|  7 | :            | It is a punctuation to show what to do if a condition is met. (if x=10 **:**)                                  |\r\n",
    "|  8 | []           | It contains a list. (1D list)                                                                                  |\r\n",
    "|  9 | [[[]]]       | It contains a list within a list within a list. (3D list)                                                      |\r\n",
    "| 10 | {}           | It contains a sequence of data.                                                                                |"
   ]
  },
  {
   "cell_type": "code",
   "execution_count": 18,
   "id": "c740bd81-7b63-4162-9dc4-7235ee645522",
   "metadata": {},
   "outputs": [
    {
     "data": {
      "text/plain": [
       "2.5"
      ]
     },
     "execution_count": 18,
     "metadata": {},
     "output_type": "execute_result"
    }
   ],
   "source": [
    "5/2 #It divides 5 by 2"
   ]
  },
  {
   "cell_type": "code",
   "execution_count": 26,
   "id": "0773279f-31f7-42ec-b6e5-3c9d34977f38",
   "metadata": {},
   "outputs": [
    {
     "data": {
      "text/plain": [
       "2"
      ]
     },
     "execution_count": 26,
     "metadata": {},
     "output_type": "execute_result"
    }
   ],
   "source": [
    "5//2 #It outputs the integer not greater than result"
   ]
  },
  {
   "cell_type": "code",
   "execution_count": 31,
   "id": "6200f9c7-9f9e-4cc5-aad9-229342c2bf42",
   "metadata": {},
   "outputs": [
    {
     "data": {
      "text/plain": [
       "1"
      ]
     },
     "execution_count": 31,
     "metadata": {},
     "output_type": "execute_result"
    }
   ],
   "source": [
    "5%2 #It outputs the remainder of the division"
   ]
  }
 ],
 "metadata": {
  "kernelspec": {
   "display_name": "Python 3 (ipykernel)",
   "language": "python",
   "name": "python3"
  },
  "language_info": {
   "codemirror_mode": {
    "name": "ipython",
    "version": 3
   },
   "file_extension": ".py",
   "mimetype": "text/x-python",
   "name": "python",
   "nbconvert_exporter": "python",
   "pygments_lexer": "ipython3",
   "version": "3.11.5"
  },
  "toc": {
   "base_numbering": 1,
   "nav_menu": {},
   "number_sections": true,
   "sideBar": true,
   "skip_h1_title": false,
   "title_cell": "Table of Contents",
   "title_sidebar": "Contents",
   "toc_cell": false,
   "toc_position": {},
   "toc_section_display": true,
   "toc_window_display": false
  },
  "vscode": {
   "interpreter": {
    "hash": "31f2aee4e71d21fbe5cf8b01ff0e069b9275f58929596ceb00d14d90e3e16cd6"
   }
  }
 },
 "nbformat": 4,
 "nbformat_minor": 5
}
