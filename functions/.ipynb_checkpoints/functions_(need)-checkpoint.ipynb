{
 "cells": [
  {
   "attachments": {},
   "cell_type": "markdown",
   "id": "123456",
   "metadata": {},
   "source": [
    "<div style=\"text-align:left;font-size:2em\"><span style=\"font-weight:bolder;font-size:1.25em\">SP2273 | Learning Portfolio</span><br><br><span style=\"font-weight:bold;color:darkred\">Functions (Need)</span></div>"
   ]
  },
  {
   "attachments": {},
   "cell_type": "markdown",
   "id": "4b2bb068",
   "metadata": {},
   "source": [
    "# What to expect in this chapter"
   ]
  },
  {
   "attachments": {},
   "cell_type": "markdown",
   "id": "751be3ec",
   "metadata": {},
   "source": [
    "# 1 User-defined functions"
   ]
  },
  {
   "attachments": {},
   "cell_type": "markdown",
   "id": "b7414888",
   "metadata": {},
   "source": [
    "## 1.1 Named Functions"
   ]
  },
  {
   "attachments": {},
   "cell_type": "markdown",
   "id": "236863c8",
   "metadata": {},
   "source": [
    "### Named functions that return"
   ]
  },
  {
   "cell_type": "code",
   "execution_count": 4,
   "id": "841b5265",
   "metadata": {},
   "outputs": [
    {
     "name": "stdout",
     "output_type": "stream",
     "text": [
      "Hello\n",
      "Hola\n"
     ]
    }
   ],
   "source": [
    "def greeting(nation):\n",
    "    if nation=='english':\n",
    "        return 'Hello'\n",
    "    else:\n",
    "        return 'Hola'\n",
    "print(greeting('english'))\n",
    "print(greeting('chinese'))"
   ]
  },
  {
   "cell_type": "code",
   "execution_count": 15,
   "id": "e11c4587-4497-4f19-8062-e1d91299ea66",
   "metadata": {},
   "outputs": [
    {
     "name": "stdout",
     "output_type": "stream",
     "text": [
      "(array([ 1,  2,  5,  6,  8, 10]), 5.333333333333333, 5.5, 3.1446603773522015)\n"
     ]
    }
   ],
   "source": [
    "import numpy as np\n",
    "def stats(numbers):\n",
    "    list=np.array(numbers)\n",
    "    mean=np.mean(numbers)\n",
    "    median=np.median(numbers)\n",
    "    sd=np.std(numbers)\n",
    "    return list, mean, median, sd\n",
    "\n",
    "print(stats([1,2,5,6,8,10]))"
   ]
  },
  {
   "attachments": {},
   "cell_type": "markdown",
   "id": "58fadffa",
   "metadata": {},
   "source": [
    "### Named functions that don’t return"
   ]
  },
  {
   "cell_type": "code",
   "execution_count": 20,
   "id": "bd864a49",
   "metadata": {},
   "outputs": [
    {
     "name": "stdout",
     "output_type": "stream",
     "text": [
      "None\n"
     ]
    }
   ],
   "source": [
    "def wow(x):\n",
    "    if x<2:\n",
    "        x+=1\n",
    "    else:\n",
    "        x=x\n",
    "\n",
    "print(wow(1))"
   ]
  },
  {
   "attachments": {},
   "cell_type": "markdown",
   "id": "86ae0ff8",
   "metadata": {},
   "source": [
    "## 1.2 Anonymous functions"
   ]
  },
  {
   "cell_type": "code",
   "execution_count": 25,
   "id": "17a939cd-05cb-4631-be0a-a1b3ce8f1a1b",
   "metadata": {},
   "outputs": [
    {
     "name": "stdout",
     "output_type": "stream",
     "text": [
      "Hello YZ!\n"
     ]
    }
   ],
   "source": [
    "short_function= lambda name: f\"Hello {name}!\"\n",
    "print(short_function('YZ'))"
   ]
  },
  {
   "cell_type": "code",
   "execution_count": 30,
   "id": "3a2c4c19-e066-4754-87c3-808c3b6acdfe",
   "metadata": {},
   "outputs": [
    {
     "name": "stdout",
     "output_type": "stream",
     "text": [
      "[[0, 9, -19], [1, 8, -18], [2, 7, -17], [3, 6, -16], [4, 5, -15], [5, 4, -14], [6, 3, -13], [7, 2, -12], [8, 1, -11], [9, 0, -10]]\n",
      "[[9, 0, -10], [8, 1, -11], [7, 2, -12], [6, 3, -13], [5, 4, -14], [4, 5, -15], [3, 6, -16], [2, 7, -17], [1, 8, -18], [0, 9, -19]]\n",
      "[[0, 9, -19], [1, 8, -18], [2, 7, -17], [3, 6, -16], [4, 5, -15], [5, 4, -14], [6, 3, -13], [7, 2, -12], [8, 1, -11], [9, 0, -10]]\n"
     ]
    }
   ],
   "source": [
    "numbers=[[9, 0, -10],\n",
    "         [8, 1, -11],\n",
    "         [7, 2, -12],\n",
    "         [6, 3, -13],\n",
    "         [5, 4, -14],\n",
    "         [4, 5, -15],\n",
    "         [3, 6, -16],\n",
    "         [2, 7, -17],\n",
    "         [1, 8, -18],\n",
    "         [0, 9, -19]]\n",
    "print(sorted(numbers))\n",
    "print(sorted(numbers, key=lambda x:x[1]))\n",
    "print(sorted(numbers, key=lambda x: np.mean(x)))"
   ]
  },
  {
   "attachments": {},
   "cell_type": "markdown",
   "id": "db767ce6",
   "metadata": {},
   "source": [
    "## 1.3 Optional arguments"
   ]
  },
  {
   "cell_type": "code",
   "execution_count": 31,
   "id": "cfee7694-0925-494e-a311-61283b9224f0",
   "metadata": {},
   "outputs": [
    {
     "name": "stdout",
     "output_type": "stream",
     "text": [
      "Hello no one!\n"
     ]
    }
   ],
   "source": [
    "def greeting(name='no one'):\n",
    "    if name == 'Batman':\n",
    "        return 'Hello Batman! So, nice to meet you!'\n",
    "    else:\n",
    "        return f'Hello {name}!'\n",
    "\n",
    "print(greeting())"
   ]
  },
  {
   "cell_type": "code",
   "execution_count": 32,
   "id": "7a10f240-d1c3-4212-b250-d780bcfbf474",
   "metadata": {},
   "outputs": [
    {
     "data": {
      "text/plain": [
       "\u001b[1;31mSignature:\u001b[0m \u001b[0mprint\u001b[0m\u001b[1;33m(\u001b[0m\u001b[1;33m*\u001b[0m\u001b[0margs\u001b[0m\u001b[1;33m,\u001b[0m \u001b[0msep\u001b[0m\u001b[1;33m=\u001b[0m\u001b[1;34m' '\u001b[0m\u001b[1;33m,\u001b[0m \u001b[0mend\u001b[0m\u001b[1;33m=\u001b[0m\u001b[1;34m'\\n'\u001b[0m\u001b[1;33m,\u001b[0m \u001b[0mfile\u001b[0m\u001b[1;33m=\u001b[0m\u001b[1;32mNone\u001b[0m\u001b[1;33m,\u001b[0m \u001b[0mflush\u001b[0m\u001b[1;33m=\u001b[0m\u001b[1;32mFalse\u001b[0m\u001b[1;33m)\u001b[0m\u001b[1;33m\u001b[0m\u001b[1;33m\u001b[0m\u001b[0m\n",
       "\u001b[1;31mDocstring:\u001b[0m\n",
       "Prints the values to a stream, or to sys.stdout by default.\n",
       "\n",
       "sep\n",
       "  string inserted between values, default a space.\n",
       "end\n",
       "  string appended after the last value, default a newline.\n",
       "file\n",
       "  a file-like object (stream); defaults to the current sys.stdout.\n",
       "flush\n",
       "  whether to forcibly flush the stream.\n",
       "\u001b[1;31mType:\u001b[0m      builtin_function_or_method"
      ]
     },
     "metadata": {},
     "output_type": "display_data"
    }
   ],
   "source": [
    "?print"
   ]
  },
  {
   "cell_type": "code",
   "execution_count": 34,
   "id": "e42d9cf7-0a21-405c-8ff9-b3e9c04baaaa",
   "metadata": {},
   "outputs": [
    {
     "name": "stdout",
     "output_type": "stream",
     "text": [
      "I...am...Batman!\n"
     ]
    }
   ],
   "source": [
    "print('I', 'am', 'Batman!', sep='...') "
   ]
  },
  {
   "attachments": {},
   "cell_type": "markdown",
   "id": "da880a94",
   "metadata": {},
   "source": [
    "## 1.4 The importance of functions?"
   ]
  },
  {
   "attachments": {},
   "cell_type": "markdown",
   "id": "5c87134b",
   "metadata": {},
   "source": [
    "### An argument for functions"
   ]
  },
  {
   "cell_type": "code",
   "execution_count": null,
   "id": "05d06e48",
   "metadata": {},
   "outputs": [],
   "source": [
    "\n",
    "# Your code here\n"
   ]
  },
  {
   "attachments": {},
   "cell_type": "markdown",
   "id": "b3ec3f55",
   "metadata": {},
   "source": [
    "### A word of caution"
   ]
  },
  {
   "cell_type": "code",
   "execution_count": null,
   "id": "a1498e62",
   "metadata": {},
   "outputs": [],
   "source": [
    "\n",
    "# Your code here\n"
   ]
  }
 ],
 "metadata": {
  "kernelspec": {
   "display_name": "Python 3 (ipykernel)",
   "language": "python",
   "name": "python3"
  },
  "language_info": {
   "codemirror_mode": {
    "name": "ipython",
    "version": 3
   },
   "file_extension": ".py",
   "mimetype": "text/x-python",
   "name": "python",
   "nbconvert_exporter": "python",
   "pygments_lexer": "ipython3",
   "version": "3.11.5"
  },
  "toc": {
   "base_numbering": 1,
   "nav_menu": {},
   "number_sections": true,
   "sideBar": true,
   "skip_h1_title": false,
   "title_cell": "Table of Contents",
   "title_sidebar": "Contents",
   "toc_cell": false,
   "toc_position": {},
   "toc_section_display": true,
   "toc_window_display": false
  },
  "vscode": {
   "interpreter": {
    "hash": "31f2aee4e71d21fbe5cf8b01ff0e069b9275f58929596ceb00d14d90e3e16cd6"
   }
  }
 },
 "nbformat": 4,
 "nbformat_minor": 5
}
